{
  "metadata": {
    "kernelspec": {
      "name": "python",
      "display_name": "Python (Pyodide)",
      "language": "python"
    },
    "language_info": {
      "codemirror_mode": {
        "name": "python",
        "version": 3
      },
      "file_extension": ".py",
      "mimetype": "text/x-python",
      "name": "python",
      "nbconvert_exporter": "python",
      "pygments_lexer": "ipython3",
      "version": "3.8"
    }
  },
  "nbformat_minor": 4,
  "nbformat": 4,
  "cells": [
    {
      "cell_type": "markdown",
      "source": "#1. Explain the purpose and advantages of NumPy in scientific computing and data analysis. How d0oes it enhance Python's capabilities for numerical operations?\n#Ans.\n\n# 1. **Efficient Array Operations**\n   #Dimensional Arrays:** NumPy introduces the `ndarray` (N-dimensional array) object, which allows for the representation of multi-dimensional data in a compact and efficient way.\n   #Vectorization:** NumPy operations are vectorized, meaning they can be applied to entire arrays without the need for explicit loops, significantly speeding up computations.\n\n# 2. **Performance**\n   #C and Fortran Integration:** NumPy is implemented in C and Fortran, making its operations much faster than equivalent Python code. This is particularly important for computationally intensive tasks.\n   #Memory Efficiency:** NumPy arrays require less memory compared to Python lists, as they are homogeneously typed and optimized for storage.\n\n# 3. **Mathematical Functions**\n   #Comprehensive Functions:** NumPy provides a wide range of mathematical functions for operations like linear algebra, statistics, Fourier transforms, and more, all optimized for performance.\n   #Broadcasting:** This feature allows NumPy to perform operations on arrays of different shapes in a seamless manner, enabling more flexible code.\n\n# 4. **Interoperability**\n   #Integration with Other Libraries:** NumPy serves as the foundational library for many other scientific computing libraries in Python, such as SciPy, Pandas, and Matplotlib. This interoperability allows for a smooth workflow in data analysis and scientific computing.\n   #Data Exchange:** NumPy arrays can be easily converted to and from other formats, facilitating data import and export in various applications.\n\n# 5. **Ease of Use**\n   #User-Friendly Syntax:** The NumPy API is designed to be intuitive and easy to learn, making it accessible for users from different backgrounds, including those not specialized in programming.\n   #Documentation and Community:** NumPy has extensive documentation and a large community, which means users can find resources, tutorials, and support easily.\n",
      "metadata": {
        "jp-MarkdownHeadingCollapsed": true
      }
    },
    {
      "cell_type": "markdown",
      "source": "#2. Compare and contrast np.mean() and np.average() functions in NumPy. When would you use one over the other?\n#ans.\nBoth `np.mean()` and `np.average()` are functions in NumPy that compute the average of elements in an array, but they have some key differences in functionality and use cases.\n\n# `np.mean()`\n#Purpose:** Computes the arithmetic mean (average) of the array elements along a specified axis.\n#Usage:** Simple and straightforward, with no additional parameters for weights.\n\n  np.mean(array, axis=None, dtype=None, out=None)\n\n- **Returns:** The mean value(s) of the array.\n\n### Example:\n\nimport numpy as np\n\ndata = np.array([1, 2, 3, 4, 5])\nmean_value = np.mean(data)  # Output: 3.0\n```\n\n### `np.average()`\n- **Purpose:** Computes the weighted average of array elements, allowing for the use of weights to influence the average.\n- **Usage:** More flexible than `np.mean()` because it can take a weights parameter.\n- **Syntax:**\n  ```python\n  np.average(array, axis=None, weights=None, returned=False)\n  ```\n- **Returns:** The weighted average if weights are provided, otherwise behaves similarly to `np.mean()`.\n\n### Example:\n```python\ndata = np.array([1, 2, 3, 4, 5])\nweights = np.array([1, 1, 1, 1, 1])\naverage_value = np.average(data, weights=weights)  # Output: 3.0\n```\n\n### Key Differences\n1. **Weights:**\n   - **`np.mean()`:** Does not consider weights; always computes a simple average.\n   - **`np.average()`:** Allows for weights, enabling calculation of a weighted average.\n\n2. **Complexity:**\n   - **`np.mean()`:** More straightforward and typically faster for simple averaging tasks.\n   - **`np.average()`:** More complex due to the additional weights functionality, making it suitable for specific use cases.\n\n### When to Use Each\n- **Use `np.mean()`** when you want to calculate the simple arithmetic mean of the elements in an array without any consideration for weights. It's ideal for straightforward averaging tasks.\n  \n- **Use `np.average()`** when you need to calculate a weighted average where some elements contribute more to the final average than others. This is useful in scenarios like statistical analysis or when dealing with data points that have varying significance.\n\n",
      "metadata": {}
    },
    {
      "cell_type": "markdown",
      "source": "#3.Reversing a NumPy array can be done in several ways depending on whether you're working with 1D or 2D arrays and along which axes you want to reverse the data. Here are the methods for both types of arrays:\n\n### Reversing a 1D Array\n\nFor a 1D array, you can reverse it using slicing. The syntax for slicing to reverse an array is `array[::-1]`.\n\n#### Example:\n```python\nimport numpy as np\n\n# Create a 1D array\narray_1d = np.array([1, 2, 3, 4, 5])\n\n# Reverse the array\nreversed_array_1d = array_1d[::-1]\n\nprint(reversed_array_1d)  # Output: [5 4 3 2 1]\n```\n\n### Reversing a 2D Array\n\nFor 2D arrays, you can reverse the array along specific axes using slicing as well. \n\n1. **Reversing along the rows (vertical flip):** This can be achieved by slicing the first axis (`axis=0`).\n2. **Reversing along the columns (horizontal flip):** This is done by slicing the second axis (`axis=1`).\n\n#### Example:\n```python\n# Create a 2D array\narray_2d = np.array([[1, 2, 3],\n                     [4, 5, 6],\n                     [7, 8, 9]])\n\n# Reverse along the rows\nreversed_rows = array_2d[::-1]\n\n# Reverse along the columns\nreversed_columns = array_2d[:, ::-1]\n\nprint(\"Original Array:\")\nprint(array_2d)\n\nprint(\"\\nReversed along rows:\")\nprint(reversed_rows)\n\nprint(\"\\nReversed along columns:\")\nprint(reversed_columns)\n```\n\n### Output:\n```\nOriginal Array:\n[[1 2 3]\n [4 5 6]\n [7 8 9]]\n\nReversed along rows:\n[[7 8 9]\n [4 5 6]\n [1 2 3]]\n\nReversed along columns:\n[[3 2 1]\n [6 5 4]\n [9 8 7]]\n```\n\n### Summary\n- For **1D arrays**, use slicing (`array[::-1]`) to reverse the entire array.\n- For **2D arrays**, you can reverse along rows with `array[::-1]` and along columns with `array[:, ::-1]`. This flexibility allows you to manipulate data according to your needs in scientific computing and data analysis.\n# Reversing a 1D Array\n\nFor a 1D array, you can reverse it using slicing. The syntax for slicing to reverse an array is `array[::-1]`.\n\n\nimport numpy as np\n\n# Create a 1D array\narray_1d = np.array([1, 2, 3, 4, 5])\n\n# Reverse the array\nreversed_array_1d = array_1d[::-1]\n\nprint(reversed_array_1d)  # Output: [5 4 3 2 1]\n```\n\n### Reversing a 2D Array\n\nFor 2D arrays, you can reverse the array along specific axes using slicing as well. \n\n1. **Reversing along the rows (vertical flip):** This can be achieved by slicing the first axis (`axis=0`).\n2. **Reversing along the columns (horizontal flip):** This is done by slicing the second axis (`axis=1`).\ncreate a 2D array\narray_2d = np.array([[1, 2, 3],\n                     [4, 5, 6],\n                     [7, 8, 9]])\n\n# Reverse along the rows\nreversed_rows = array_2d[::-1]\n\n# Reverse along the columns\nreversed_columns = array_2d[:, ::-1]\n\nprint(\"Original Array:\")\nprint(array_2d)\n\nprint(\"\\nReversed along rows:\")\nprint(reversed_rows)\n\nprint(\"\\nReversed along columns:\")\nprint(reversed_columns)\n```\n",
      "metadata": {}
    },
    {
      "cell_type": "markdown",
      "source": "#4 How can you determine the data type of elements in a NumPy array? Discuss the importance of data types\nin memory management and performance\n#Ans.\nIn NumPy, you can determine the data type of elements in an array using the `.dtype` attribute. This attribute returns an object that describes the type of data contained in the array, such as `int32`, `float64`, or `str`.\n\n### Example of Checking Data Type\n\nimport numpy as np\n\n# Create a NumPy array\narray = np.array([1, 2, 3], dtype=np.int32)\n\n# Check the data type\ndata_type = array.dtype\n\nprint(data_type)  # Output: int32\n```\n\n### Importance of Data Types\n\n1. **Memory Management:**\n   - Different data types consume varying amounts of memory. For example, an `int32` (32-bit integer) uses 4 bytes, while an `int64` (64-bit integer) uses 8 bytes. By selecting the appropriate data type, you can minimize memory usage, which is especially important when working with large datasets.\n\n2. **Performance:**\n   - Operations on smaller data types can be faster because they require less memory bandwidth and cache space. For instance, performing arithmetic operations on `float32` arrays can be quicker than on `float64` arrays due to the reduced size of the data being processed.\n   - Additionally, certain numerical libraries and functions are optimized for specific data types, which can enhance computational performance.\n\n3. **Compatibility:**\n   - Different functions and libraries may require specific data types. Ensuring that your NumPy arrays use compatible data types can prevent errors and ensure proper functionality when interfacing with other libraries (e.g., SciPy, Pandas).\n\n4. **Numerical Precision:**\n   - The choice of data type affects the precision of numerical calculations. For example, using `float32` may introduce rounding errors in certain computations compared to using `float64`, which has higher precision. This is crucial in scientific computing and applications requiring high accuracy.\n\n5. **Array Operations:**\n   - Operations involving mixed data types can lead to unintended type conversions and can potentially degrade performance. Ensuring consistency in data types helps maintain the efficiency of array operations.\n\n",
      "metadata": {}
    },
    {
      "cell_type": "markdown",
      "source": "#5. Define ndarrays in NumPy and explain their key features. How do they differ from standard Python lists?\n#ans.\nIn NumPy, an **ndarray** (N-dimensional array) is the core data structure used for numerical computing. It provides a powerful, efficient way to handle and manipulate multi-dimensional data. Here are some key features of ndarrays and how they differ from standard Python lists:\n\n# Key Features of ndarrays\n\n1. **N-Dimensional:**\n   - Ndarrays can represent data in multiple dimensions (1D, 2D, 3D, etc.). This flexibility allows for complex data structures, such as matrices and tensors.\n\n2. **Homogeneous Data Types:**\n   - All elements in an ndarray must be of the same data type (e.g., all integers, all floats). This homogeneity enables NumPy to optimize memory usage and performance.\n\n3. **Memory Efficiency:**\n   - Ndarrays use contiguous blocks of memory, leading to lower overhead and faster access times compared to Python lists, which can be fragmented in memory.\n\n4. **Element-wise Operations:**\n   - NumPy supports vectorized operations, allowing mathematical operations to be applied directly to entire arrays without the need for explicit loops. This is not only more concise but also significantly faster.\n\n5. **Broadcasting:**\n   - This powerful feature allows NumPy to perform operations on arrays of different shapes in a flexible way, automatically expanding dimensions as needed.\n\n6. **Comprehensive Functionality:**\n   - Ndarrays come with a rich set of built-in functions and methods for mathematical operations, statistical analysis, reshaping, slicing, and more, making them suitable for various scientific and engineering applications.\n\n7. **Interoperability:**\n   - Ndarrays can easily be integrated with other libraries, such as SciPy, Pandas, and Matplotlib, facilitating a seamless workflow for data analysis and scientific computing.\n\n### Differences from Standard Python Lists\n\n1. **Data Type Homogeneity:**\n   - **Ndarrays:** All elements are of the same type, leading to more efficient computations.\n   - **Python Lists:** Can hold mixed data types, which may slow down processing and increase memory usage.\n\n2. **Performance:**\n   - **Ndarrays:** Operations on ndarrays are generally faster due to optimized implementations in C and Fortran.\n   - **Python Lists:** Slower for numerical operations, as they require looping through elements.\n\n3. **Memory Layout:**\n   - **Ndarrays:** Contiguous memory allocation improves cache performance and efficiency.\n   - **Python Lists:** Elements can be scattered in memory, leading to potential overhead.\n\n4. **Functional Capabilities:**\n   - **Ndarrays:** Support advanced mathematical and statistical operations directly on arrays.\n   - **Python Lists:** Require explicit loops and function calls for numerical operations.\n\n5. **Slicing and Indexing:**\n   - **Ndarrays:** Support multi-dimensional slicing and fancy indexing, allowing complex data manipulation with ease.\n   - **Python Lists:** Slicing is limited to one-dimensional structures without advanced indexing capabilities.",
      "metadata": {}
    },
    {
      "cell_type": "markdown",
      "source": "#6 Analyze the performance benefits of NumPy arrays over Python lists for large-scale numerical operations.\n#ans \nWhen performing large-scale numerical operations, NumPy arrays offer significant performance benefits over standard Python lists. Here’s a detailed analysis of these benefits:\n\n### 1. **Memory Efficiency**\n- **Contiguous Memory Allocation:** NumPy arrays use contiguous blocks of memory, which leads to better cache performance and reduced memory overhead. This can significantly decrease the memory footprint compared to Python lists, which can have fragmented memory due to their dynamic nature.\n- **Fixed Data Type:** Since all elements in a NumPy array are of the same data type, the memory layout is more compact. In contrast, Python lists can hold mixed data types, which results in additional overhead.\n\n### 2. **Faster Element-wise Operations**\n- **Vectorization:** NumPy leverages vectorized operations, allowing arithmetic and mathematical functions to be applied directly to entire arrays without explicit loops. This leads to substantial speed improvements, as these operations are implemented in optimized C and Fortran code.\n- **Reduced Python Overhead:** Using vectorized operations minimizes the time spent in Python's interpreter, making computations much faster than iterating through Python lists with loops.\n\n### 3. **Broadcasting Capabilities**\n- **Flexible Operations on Different Shapes:** NumPy’s broadcasting feature allows operations between arrays of different shapes without needing to manually expand dimensions. This flexibility results in concise code and efficient calculations, which would otherwise require cumbersome manual handling in Python lists.\n\n### 4. **Built-in Functions and Optimized Libraries**\n- **Rich Functionality:** NumPy provides a wide range of built-in mathematical functions, such as linear algebra, Fourier transforms, and statistical operations, all optimized for performance. These operations are typically faster than equivalent implementations using Python lists.\n- **Integration with Other Libraries:** NumPy serves as the backbone for many scientific libraries (e.g., SciPy, Pandas), allowing users to leverage optimized routines and algorithms that are designed to work seamlessly with ndarrays.\n\n### 5. **Parallel Processing and Optimizations**\n- **Low-level Optimizations:** Many NumPy operations are implemented using low-level libraries like BLAS and LAPACK, which can take advantage of multi-threading and optimized hardware instructions (e.g., SIMD). This can result in faster execution times for large computations.\n- **Memory Alignment:** NumPy arrays are often aligned in memory, which can lead to more efficient use of CPU cache and faster access times compared to the scattered memory allocation of Python lists.\n\n### 6. **Profiling and Benchmarks**\n- **Performance Benchmarks:** Numerous benchmarks show that NumPy arrays outperform Python lists for large-scale numerical computations by orders of magnitude. For example, operations like element-wise addition or multiplication on large datasets can be significantly faster (10x to 100x or more).\n\n",
      "metadata": {}
    },
    {
      "cell_type": "markdown",
      "source": "#7. Compare vstack() and hstack() functions in NumPy. Provide examples demonstrating their usage and\noutput\n#Ans \nIn NumPy, `vstack()` and `hstack()` are functions used to stack arrays vertically and horizontally, respectively. Here’s a detailed comparison of both functions along with examples demonstrating their usage.\n\n### `vstack()`\n\n- **Functionality:** Stacks arrays vertically (row-wise). This means that arrays are combined along the first axis (axis 0), effectively creating more rows.\n- **Input Requirement:** The input arrays must have the same shape along all axes except for the first one.\n\n#### Example of `vstack()`\n\nimport numpy as np\n\n# Create two 2D arrays\narray1 = np.array([[1, 2, 3],\n                   [4, 5, 6]])\n\narray2 = np.array([[7, 8, 9],\n                   [10, 11, 12]])\n\n# Stack the arrays vertically\nresult_vstack = np.vstack((array1, array2))\n\nprint(\"Vertical Stack Result:\")\nprint(result_vstack)\n```\n\n#### Output:\n```\nVertical Stack Result:\n[[ 1  2  3]\n [ 4  5  6]\n [ 7  8  9]\n [10 11 12]]\n```\n\n### `hstack()`\n\n- **Functionality:** Stacks arrays horizontally (column-wise). This means that arrays are combined along the second axis (axis 1), effectively creating more columns.\n- **Input Requirement:** The input arrays must have the same shape along all axes except for the second one.\n\n#### Example of `hstack()`\n\n# Stack the arrays horizontally\nresult_hstack = np.hstack((array1, array2))\n\nprint(\"\\nHorizontal Stack Result:\")\nprint(result_hstack)",
      "metadata": {}
    },
    {
      "cell_type": "markdown",
      "source": "#8. Explain the differences between fliplr() and flipud() methods in NumPy, including their effects on various array dimensions.\n#ans.\nIn NumPy, `fliplr()` and `flipud()` are functions used to flip arrays along specific axes. Here's a detailed explanation of the differences between these two methods, along with their effects on various array dimensions.\n\n### `fliplr()`\n\n- **Functionality:** Flips an array from left to right (horizontally).\n- **Effect on Dimensions:** \n  - Works specifically on 2D arrays (matrices).\n  - For 1D arrays, `fliplr()` will raise an error, as it requires at least a 2D shape.\n\n#### Example of `fliplr()`\nimport numpy as np\n\n# Create a 2D array\narray_2d = np.array([[1, 2, 3],\n                     [4, 5, 6]])\n\n# Flip the array left to right\nresult_fliplr = np.fliplr(array_2d)\n\nprint(\"Original Array:\")\nprint(array_2d)\n\nprint(\"\\nFlipped Left to Right:\")\nprint(result_fliplr)\n```\n\n#### Output:\n```\nOriginal Array:\n[[1 2 3]\n [4 5 6]]\n\nFlipped Left to Right:\n[[3 2 1]\n [6 5 4]]\n```\n\n### `flipud()`\n\n- **Functionality:** Flips an array from up to down (vertically).\n- **Effect on Dimensions:**\n  - Works specifically on 2D arrays.\n  - For 1D arrays, `flipud()` will also raise an error, similar to `fliplr()`.\n\n#### Example of `flipud()`\n# Flip the array up to down\nresult_flipud = np.flipud(array_2d)\n\nprint(\"\\nFlipped Up to Down:\")\nprint(result_flipud)\n```\n\n#### Output:\n```\nFlipped Up to Down:\n[[4 5 6]\n [1 2 3]]\n```\n\n### Summary of Differences\n\n1. **Direction of Flip:**\n   - **`fliplr()`:** Flips the array left to right (horizontally).\n   - **`flipud()`:** Flips the array up to down (vertically).\n\n2. **Applicable Dimensions:**\n   - Both methods are primarily designed for 2D arrays.\n   - Attempting to use `fliplr()` or `flipud()` on a 1D array will result in a ValueError.\n\n### Effect on Higher Dimensions\n\n- For **3D arrays** and higher:\n  - **`fliplr()`** flips the last axis (axis 1) of the array, affecting each 2D slice along the first axis (axis 0).\n  - **`flipud()`** flips the second-to-last axis (axis 0) of the array, affecting the arrangement of 2D slices along the first axis.",
      "metadata": {}
    },
    {
      "cell_type": "markdown",
      "source": "#9. Discuss the functionality of the array_split() method in NumPy. How does it handle uneven splits?\n#ans.\nThe `array_split()` method in NumPy is used to split an array into multiple sub-arrays. Unlike the `split()` method, which requires that the array be evenly divisible by the number of sections, `array_split()` can handle cases where the splits are uneven.\n\n### Functionality of `array_split()`\n\n- **Basic Usage:** The primary purpose of `array_split()` is to divide an array into specified sections along a given axis. It returns a list of sub-arrays.\n- **Parameters:**\n  - **`ary`**: The input array to be split.\n  - **`indices_or_sections`**: This can be an integer (the number of equal parts to split the array into) or a 1D array of indices at which to split.\n  - **`axis`**: The axis along which to split the array (default is 0, which means it splits along the first axis).\n  \n### Handling Uneven Splits\n\nWhen using `array_split()`, if the number of elements in the array is not perfectly divisible by the number of desired splits, NumPy distributes the elements as evenly as possible. The first few resulting sub-arrays will have one more element than the remaining sub-arrays.\n\n#### Example of `array_split()`\n\n\nimport numpy as np\n\n# Create a 1D array\narray = np.array([1, 2, 3, 4, 5, 6, 7])\n\n# Split the array into 3 parts\nresult = np.array_split(array, 3)\n\nprint(\"Array:\", array)\nprint(\"\\nSplit Result:\")\nfor idx, sub_array in enumerate(result):\n    print(f\"Sub-array {idx + 1}: {sub_array}\")\n\n\n#### Output:\n```\nArray: [1 2 3 4 5 6 7]\n\nSplit Result:\nSub-array 1: [1 2 3]\nSub-array 2: [4 5]\nSub-array 3: [6 7]\n```\n\n### Key Points\n\n1. **Even Distribution:** When the input array cannot be evenly split, `array_split()` ensures that the first few sub-arrays receive an extra element, resulting in a balanced distribution.\n   \n2. **Flexibility:** It works not only with 1D arrays but also with multi-dimensional arrays, allowing splits along any specified axis.\n\n3. **Return Value:** The method returns a list of sub-arrays, which can vary in size if the original array cannot be evenly divided.",
      "metadata": {}
    },
    {
      "cell_type": "markdown",
      "source": "#10. Explain the concepts of vectorization and broadcasting in NumPy. How do they contribute to efficient array operations?\n#ans \nVectorization and broadcasting are two powerful features in NumPy that significantly enhance the efficiency and performance of array operations. Here's an overview of both concepts and their contributions to efficient computations.\n\n### Vectorization\n\n**Definition:**\nVectorization refers to the process of replacing explicit loops in numerical computations with array expressions that operate on whole arrays or large chunks of data at once. This is made possible by NumPy’s ability to perform operations in a highly optimized manner, typically using underlying C or Fortran code.\n\n**Benefits:**\n1. **Performance:** Vectorized operations are generally much faster than using Python loops because they leverage low-level optimizations and reduce the overhead of Python’s interpreted nature.\n2. **Conciseness:** Vectorized code is often more concise and easier to read, making it clearer to understand the intended operations.\n\n**Example of Vectorization:**\n```python\nimport numpy as np\n\n# Create two large arrays\na = np.arange(1, 1000001)\nb = np.arange(1, 1000001)\n\n# Using vectorized addition\nc = a + b  # No explicit loops\n\nprint(c)\n```\n\n### Broadcasting\n\n**Definition:**\nBroadcasting is a technique that allows NumPy to perform arithmetic operations on arrays of different shapes in a seamless manner. It automatically expands the smaller array across the larger array so that they have compatible shapes for the operation.\n\n**Rules for Broadcasting:**\n1. If the arrays have different numbers of dimensions, the shape of the smaller array is padded with ones on the left side until both shapes are the same.\n2. If the sizes of the dimensions do not match, one of the dimensions must be 1, allowing it to be \"stretched\" to match the other dimension.\n3. If the dimensions do not meet the above criteria, broadcasting fails.\n\n**Benefits:**\n1. **Flexibility:** Broadcasting allows for operations between arrays of different shapes without manual adjustments, leading to cleaner and more efficient code.\n2. **Memory Efficiency:** Instead of creating copies of arrays, broadcasting allows for virtual expansion, which saves memory.\n\n**Example of Broadcasting:**\n# Create a 1D array\na = np.array([1, 2, 3])\n\n# Create a 2D array\nb = np.array([[10], [20], [30]])\n\n# Broadcasting in action\nc = a + b  # a is treated as [[1, 2, 3], [1, 2, 3], [1, 2, 3]]\n\nprint(c)\n```\n\n#### Output:\n```\n[[11 12 13]\n [21 22 23]\n [31 32 33]]\n```\n\n### Contribution to Efficient Array Operations\n\n1. **Speed:** Both vectorization and broadcasting minimize the need for explicit loops, leading to faster execution times. This is particularly beneficial when dealing with large datasets or complex numerical computations.\n  \n2. **Simplicity:** By reducing the amount of code required to perform operations, these features make it easier to write and maintain code. This simplicity also reduces the likelihood of errors that can arise from manually iterating through arrays.\n\n3. **Enhanced Functionality:** Together, vectorization and broadcasting allow for more sophisticated mathematical operations and manipulations on arrays, making NumPy a powerful tool for scientific computing, data analysis, and machine learning.",
      "metadata": {}
    },
    {
      "cell_type": "code",
      "source": "                                                PRACTICAL QUESTIONS",
      "metadata": {
        "trusted": true
      },
      "outputs": [],
      "execution_count": null
    },
    {
      "cell_type": "code",
      "source": "#1. Create a 3x3 NumPy array with random integers between 1 and 100. Then, interchange its rows and columns.\n#Ans. \n#You can create a 3x3 NumPy array with random integers between 1 and 100 using the `np.random.randint()` function, and then interchange its rows and columns using the `np.transpose()` function or the `.T` attribute. Here's how to do it:\n\nimport numpy as np\narr = np.random.randint(1, 100, size=(3, 3))\n\nprint(\"Original Array:\")\nprint(arr)\n\n# Interchange rows and columns (transpose the array)\ntransposed_array = np.transpose(arr)\n\nprint(\"\\nTransposed arr (Rows and Columns Interchanged):\")\nprint(transposed_array)\n",
      "metadata": {
        "trusted": true
      },
      "outputs": [
        {
          "name": "stdout",
          "text": "Original Array:\n[[72 67 49]\n [85 66 96]\n [82  2 36]]\n\nTransposed arr (Rows and Columns Interchanged):\n[[72 85 82]\n [67 66  2]\n [49 96 36]]\n",
          "output_type": "stream"
        }
      ],
      "execution_count": 7
    },
    {
      "cell_type": "code",
      "source": "# 2. Generate a 1D NumPy array with 10 elements. Reshape it into a 2x5 array, then into a 5x2 array.\n#ans.\nimport numpy as np \none_d=np.array([72,85,82,34,54,75,23,56,14,93])\n#to check array dimension\none_d.ndim\n#to reshape it into (2x5)\none_d.reshape(2,5)\n#to reshape into (5,2)\none_d.reshape(5,2)\nimport numpy as np \none_d=np.array([72,85,82,34,54,75,23,56,14,93])\n#to check array dimension\none_d.ndim\n#to reshape it into (2x5)\none_d.reshape(2,5)\n#to reshape into (5,2)\none_d.reshape(5,2)\n",
      "metadata": {
        "trusted": true
      },
      "outputs": [],
      "execution_count": 24
    },
    {
      "cell_type": "markdown",
      "source": "### ",
      "metadata": {}
    },
    {
      "cell_type": "code",
      "source": "#3. Create a 4x4 NumPy array with random float values. Add a border of zeros around it, resulting in a 6x6 array.\n#ans.\nimport numpy as np\n\n# Create a 4x4 array with random float values\narray_4x4 = np.random.rand(4, 4)\n\nprint(\"Original 4x4 Array:\")\nprint(array_4x4)\n\n# Add a border of zeros around the array\narray_with_border = np.pad(array_4x4, pad_width=1, mode='constant', constant_values=0)\n\nprint(\"\\n6x6 Array with Border of Zeros:\")\nprint(array_with_border)\n",
      "metadata": {
        "trusted": true
      },
      "outputs": [
        {
          "name": "stdout",
          "text": "Original 4x4 Array:\n[[0.31106166 0.71659934 0.13858783 0.48435084]\n [0.93890531 0.48744243 0.47684799 0.89636311]\n [0.52005058 0.9984329  0.83368768 0.63192613]\n [0.68969579 0.70229446 0.53866734 0.26839834]]\n\n6x6 Array with Border of Zeros:\n[[0.         0.         0.         0.         0.         0.        ]\n [0.         0.31106166 0.71659934 0.13858783 0.48435084 0.        ]\n [0.         0.93890531 0.48744243 0.47684799 0.89636311 0.        ]\n [0.         0.52005058 0.9984329  0.83368768 0.63192613 0.        ]\n [0.         0.68969579 0.70229446 0.53866734 0.26839834 0.        ]\n [0.         0.         0.         0.         0.         0.        ]]\n",
          "output_type": "stream"
        }
      ],
      "execution_count": 26
    },
    {
      "cell_type": "code",
      "source": "#4. Using NumPy, create an array of integers from 10 to 60 with a step of 5.\n#ANS\nimport numpy as np\n\n# Create an array of integers from 10 to 60 with a step of 5\narray = np.arange(10, 61, 5)\n\nprint(\"Array of integers from 10 to 60 with a step of 5:\")\nprint(array)\n",
      "metadata": {
        "trusted": true
      },
      "outputs": [
        {
          "name": "stdout",
          "text": "Array of integers from 10 to 60 with a step of 5:\n[10 15 20 25 30 35 40 45 50 55 60]\n",
          "output_type": "stream"
        }
      ],
      "execution_count": 30
    },
    {
      "cell_type": "code",
      "source": "#5. Create a NumPy array of strings ['python', 'numpy', 'pandas']. Apply different case transformations (uppercase, lowercase, title case, etc.) to each element\n#ans\nimport numpy as np\n\n# Create a NumPy array of strings\narray = np.array(['python', 'numpy', 'pandas'])\n\n# Apply different case transformations\nupper_case = np.char.upper(array)\nlower_case = np.char.lower(array)\ntitle_case = np.char.title(array)\ncapitalize_case = np.char.capitalize(array)\n\n# Display the results\nprint(\"Original Array:\")\nprint(array)\n\nprint(\"\\nUppercase:\")\nprint(upper_case)\n\nprint(\"\\nLowercase:\")\nprint(lower_case)\n\nprint(\"\\nTitle Case:\")\nprint(title_case)\n\nprint(\"\\nCapitalized:\")\nprint(capitalize_case)\n",
      "metadata": {
        "trusted": true
      },
      "outputs": [
        {
          "name": "stdout",
          "text": "Original Array:\n['python' 'numpy' 'pandas']\n\nUppercase:\n['PYTHON' 'NUMPY' 'PANDAS']\n\nLowercase:\n['python' 'numpy' 'pandas']\n\nTitle Case:\n['Python' 'Numpy' 'Pandas']\n\nCapitalized:\n['Python' 'Numpy' 'Pandas']\n",
          "output_type": "stream"
        }
      ],
      "execution_count": 31
    },
    {
      "cell_type": "code",
      "source": "#6. Generate a NumPy array of words. Insert a space between each character of every word in the array.\n\n#ans.\nimport numpy as np\n\n# Create a NumPy array of words\nwords = np.array(['python', 'numpy', 'pandas'])\n\n# Insert a space between each character of every word\nspaced_words = np.char.join(' ', words)\n\n# Display the results\nprint(\"Original Array of Words:\")\nprint(words)\n\nprint(\"\\nWords with Spaces Between Characters:\")\nfor word in spaced_words:\n    print(word)\n",
      "metadata": {
        "trusted": true
      },
      "outputs": [],
      "execution_count": null
    },
    {
      "cell_type": "code",
      "source": "#7. Create two 2D NumPy arrays and perform element-wise addition, subtraction, multiplication, and division \n#Ans.\nimport numpy as np\n\n# Create two 2D NumPy arrays\narray1 = np.array([[1, 2, 3],\n                   [4, 5, 6]])\n\narray2 = np.array([[10, 20, 30],\n                   [40, 50, 60]])\n\n# Perform element-wise addition\naddition_result = array1 + array2\n\n# Perform element-wise subtraction\nsubtraction_result = array1 - array2\n\n# Perform element-wise multiplication\nmultiplication_result = array1 * array2\n\n# Perform element-wise division\ndivision_result = array1 / array2\n\n# Display the results\nprint(\"Array 1:\")\nprint(array1)\n\nprint(\"\\nArray 2:\")\nprint(array2)\n\nprint(\"\\nElement-wise Addition:\")\nprint(addition_result)\n\nprint(\"\\nElement-wise Subtraction:\")\nprint(subtraction_result)\n\nprint(\"\\nElement-wise Multiplication:\")\nprint(multiplication_result)\n\nprint(\"\\nElement-wise Division:\")\nprint(division_result)\n",
      "metadata": {
        "trusted": true
      },
      "outputs": [],
      "execution_count": null
    },
    {
      "cell_type": "code",
      "source": "#8. Use NumPy to create a 5x5 identity matrix, then extract its diagonal elements.\nimport numpy as np\n\n# Create a 5x5 identity matrix\nidentity_matrix = np.eye(5)\n\nprint(\"5x5 Identity Matrix:\")\nprint(identity_matrix)\n\n# Extract the diagonal elements\ndiagonal_elements = np.diagonal(identity_matrix)\n\nprint(\"\\nDiagonal Elements:\")\nprint(diagonal_elements)\n",
      "metadata": {
        "trusted": true
      },
      "outputs": [],
      "execution_count": null
    },
    {
      "cell_type": "code",
      "source": "#9. Generate a NumPy array of 100 random integers between 0 and 1000. Find and display all prime numbers in this array.\nimport numpy as np\n\n# Generate a NumPy array of 100 random integers between 0 and 1000\nrandom_integers = np.random.randint(0, 1001, size=100)\n\n# Function to check if a number is prime\ndef is_prime(n):\n    if n <= 1:\n        return False\n    for i in range(2, int(n**0.5) + 1):\n        if n % i == 0:\n            return False\n    return True\n\n# Find all prime numbers in the array\nprime_numbers = [num for num in random_integers if is_prime(num)]\n\n# Display results\nprint(\"Random Integers:\")\nprint(random_integers)\n\nprint(\"\\nPrime Numbers:\")\nprint(prime_numbers)\n",
      "metadata": {
        "trusted": true
      },
      "outputs": [],
      "execution_count": null
    },
    {
      "cell_type": "code",
      "source": "#10. Create a NumPy array representing daily temperatures for a month. Calculate and display the weekly averages.\n#ans\nimport numpy as np\n\n# Create a NumPy array representing daily temperatures for a month (30 days)\n# For example, using random temperatures between 15 and 30 degrees Celsius\ndaily_temperatures = np.random.randint(15, 31, size=30)\n\nprint(\"Daily Temperatures for the Month:\")\nprint(daily_temperatures)\n\n# Reshape the array into a 4-week format (4 weeks of 7 days each)\n# The last week will have 2 days\nweekly_temperatures = daily_temperatures.reshape(4, 7)\n\n# Calculate the weekly averages\nweekly_averages = np.mean(weekly_temperatures, axis=1)\n\nprint(\"\\nWeekly Averages:\")\nprint(weekly_averages)\n",
      "metadata": {
        "trusted": true
      },
      "outputs": [],
      "execution_count": null
    }
  ]
}