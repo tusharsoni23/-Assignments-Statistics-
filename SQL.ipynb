{
  "metadata": {
    "kernelspec": {
      "name": "python",
      "display_name": "Python (Pyodide)",
      "language": "python"
    },
    "language_info": {
      "codemirror_mode": {
        "name": "python",
        "version": 3
      },
      "file_extension": ".py",
      "mimetype": "text/x-python",
      "name": "python",
      "nbconvert_exporter": "python",
      "pygments_lexer": "ipython3",
      "version": "3.8"
    }
  },
  "nbformat_minor": 5,
  "nbformat": 4,
  "cells": [
    {
      "id": "8231a148-e7a0-415d-bb8c-d86851e1e842",
      "cell_type": "code",
      "source": "\n### **1. Create the `employees` table with all constraints**\n\n```sql\nCREATE TABLE employees (\n    emp_id INT PRIMARY KEY NOT NULL,\n    emp_name TEXT NOT NULL,\n    age INT CHECK (age >= 18),\n    email TEXT UNIQUE,\n    salary DECIMAL DEFAULT 30000\n);\n```\n\n---\n\n### **2. Purpose of Constraints and Examples**\n\n**Constraints** ensure **data accuracy, consistency, and integrity** in a database.\n\nCommon types:\n\n* **PRIMARY KEY** – Uniquely identifies each record. Example: `emp_id`.\n* **FOREIGN KEY** – Links records in two tables.\n* **NOT NULL** – Prevents null values. Ensures required data is present.\n* **UNIQUE** – Ensures all values in a column are different. Example: `email`.\n* **CHECK** – Enforces specific conditions (e.g., `age >= 18`).\n* **DEFAULT** – Provides a default value if none is supplied.\n\n---\n\n### **3. Why use NOT NULL? Can a Primary Key be NULL?**\n\n* **NOT NULL** ensures a column always has a value.\n* A **Primary Key cannot contain NULL** because it must uniquely identify each record.\n* If NULLs were allowed, uniqueness couldn't be guaranteed (since NULL ≠ NULL).\n\n---\n\n### **4. Add or Remove Constraints on an Existing Table**\n\n* **Add a constraint:**\n\n```sql\nALTER TABLE employees\nADD CONSTRAINT age_check CHECK (age >= 18);\n```\n\n* **Remove a constraint:**\n\n```sql\nALTER TABLE employees\nDROP CONSTRAINT age_check;\n```\n\n(Note: Constraint names must be known or defined during creation.)\n\n---\n\n### **5. Consequences of Violating Constraints**\n\nViolating constraints causes errors and prevents invalid data insertion or modification.\n\n**Example:**\n\n```sql\nINSERT INTO employees (emp_id, emp_name, age, email)\nVALUES (1, 'John', 16, 'john@example.com');\n```\n\n**Error:**\n\n```\nERROR: new row for relation \"employees\" violates check constraint \"employees_age_check\"\n```\n\n---\n\n### **6. Altering `products` table to add constraints**\n\n```sql\nALTER TABLE products\nADD CONSTRAINT product_pk PRIMARY KEY (product_id);\n\nALTER TABLE products\nALTER COLUMN price SET DEFAULT 50.00;\n```\n\n---\n\n### **7. INNER JOIN for student and class names**\n\nAssume:\n\n* `students(student_id, student_name, class_id)`\n* `classes(class_id, class_name)`\n\n```sql\nSELECT s.student_name, c.class_name\nFROM students s\nINNER JOIN classes c ON s.class_id = c.class_id;\n```\n\n---\n\n### **8. LEFT JOIN to show all products and related orders**\n\nAssume:\n\n* `orders(order_id, customer_id, product_id)`\n* `customers(customer_id, customer_name)`\n* `products(product_id, product_name)`\n\n```sql\nSELECT o.order_id, c.customer_name, p.product_name\nFROM products p\nLEFT JOIN orders o ON p.product_id = o.product_id\nLEFT JOIN customers c ON o.customer_id = c.customer_id;\n```\n\n---\n\n### **9. Total sales amount for each product**\n\nAssume:\n\n* `orders(order_id, product_id, quantity)`\n* `products(product_id, product_name, price)`\n\n```sql\nSELECT p.product_name, SUM(o.quantity * p.price) AS total_sales\nFROM orders o\nINNER JOIN products p ON o.product_id = p.product_id\nGROUP BY p.product_name;\n```\n\n---\n\n### **10. Show order ID, customer name, and quantity**\n\nAssume:\n\n* `orders(order_id, customer_id)`\n* `customers(customer_id, customer_name)`\n* `order_details(order_id, product_id, quantity)`\n\n```sql\nSELECT o.order_id, c.customer_name, od.quantity\nFROM orders o\nINNER JOIN customers c ON o.customer_id = c.customer_id\nINNER JOIN order_details od ON o.order_id = od.order_id;\n```\n",
      "metadata": {
        "trusted": true
      },
      "outputs": [],
      "execution_count": null
    },
    {
      "id": "cf98c0b0-b226-4a2a-8624-2910e304abd8",
      "cell_type": "code",
      "source": "                                                 SQL COMMANDS",
      "metadata": {
        "trusted": true
      },
      "outputs": [],
      "execution_count": null
    },
    {
      "id": "3fed8791-e6fb-401a-a4e5-b76ee8504930",
      "cell_type": "code",
      "source": "\n\n### **1. Identify primary keys and foreign keys in Maven Movies DB**\n\n**Primary Keys:**\n\n* `actor(actor_id)`\n* `customer(customer_id)`\n* `film(film_id)`\n* `rental(rental_id)`\n* `inventory(inventory_id)`\n* `payment(payment_id)`\n* `address(address_id)`\n* `city(city_id)`\n* `country(country_id)`\n* etc.\n\n**Foreign Keys:**\n\n* `customer.address_id → address.address_id`\n* `address.city_id → city.city_id`\n* `city.country_id → country.country_id`\n* `inventory.film_id → film.film_id`\n* `inventory.store_id → store.store_id`\n* `rental.customer_id → customer.customer_id`\n* `rental.inventory_id → inventory.inventory_id`\n* `payment.customer_id → customer.customer_id`\n* `payment.rental_id → rental.rental_id`\n\n**Difference:**\n\n* **Primary Key** uniquely identifies each record.\n* **Foreign Key** links a record to another table, enforcing referential integrity.\n\n---\n\n### **2. List all details of actors**\n\n```sql\nSELECT * FROM actor;\n```\n\n---\n\n### **3. List all customer information**\n\n```sql\nSELECT * FROM customer;\n```\n\n---\n\n### **4. List different countries**\n\n```sql\nSELECT DISTINCT country FROM country;\n```\n\n---\n\n### **5. Display all active customers**\n\n```sql\nSELECT * FROM customer WHERE active = 1;\n```\n\n---\n\n### **6. Rental IDs for customer with ID 1**\n\n```sql\nSELECT rental_id FROM rental WHERE customer_id = 1;\n```\n\n---\n\n### **7. Films with rental duration > 5**\n\n```sql\nSELECT * FROM film WHERE rental_duration > 5;\n```\n\n---\n\n### **8. Count of films with replacement cost between \\$15 and \\$20**\n\n```sql\nSELECT COUNT(*) FROM film\nWHERE replacement_cost > 15 AND replacement_cost < 20;\n```\n\n---\n\n### **9. Count of unique actor first names**\n\n```sql\nSELECT COUNT(DISTINCT first_name) FROM actor;\n```\n\n---\n\n### **10. First 10 records from customer table**\n\n```sql\nSELECT * FROM customer LIMIT 10;\n```\n\n---\n\n### **11. First 3 customers whose first name starts with 'b'**\n\n```sql\nSELECT * FROM customer\nWHERE first_name LIKE 'b%'\nLIMIT 3;\n```\n\n---\n\n### **12. First 5 movies rated as ‘G’**\n\n```sql\nSELECT title FROM film\nWHERE rating = 'G'\nLIMIT 5;\n```\n\n---\n\n### **13. Customers whose first name starts with \"a\"**\n\n```sql\nSELECT * FROM customer\nWHERE first_name LIKE 'a%';\n```\n\n---\n\n### **14. Customers whose first name ends with \"a\"**\n\n```sql\nSELECT * FROM customer\nWHERE first_name LIKE '%a';\n```\n\n---\n\n### **15. First 4 cities that start and end with 'a'**\n\n```sql\nSELECT city FROM city\nWHERE city LIKE 'a%a'\nLIMIT 4;\n```\n\n---\n\n### **16. Customers whose first name contains \"NI\"**\n\n```sql\nSELECT * FROM customer\nWHERE first_name LIKE '%NI%';\n```\n\n---\n\n### **17. Customers whose first name has \"r\" in second position**\n\n```sql\nSELECT * FROM customer\nWHERE first_name LIKE '_r%';\n```\n\n---\n\n### **18. Customers whose first name starts with \"a\" and is at least 5 characters**\n\n```sql\nSELECT * FROM customer\nWHERE first_name LIKE 'a%' AND LENGTH(first_name) >= 5;\n```\n\n---\n\n### **19. Customers whose first name starts with \"a\" and ends with \"o\"**\n\n```sql\nSELECT * FROM customer\nWHERE first_name LIKE 'a%o';\n```\n\n---\n\n### **20. Films with rating ‘PG’ or ‘PG-13’ using IN**\n\n```sql\nSELECT * FROM film\nWHERE rating IN ('PG', 'PG-13');\n```\n\n---\n\n### **21. Films with length between 50 and 100**\n\n```sql\nSELECT * FROM film\nWHERE length BETWEEN 50 AND 100;\n```\n\n---\n\n### **22. Top 50 actors**\n\n```sql\nSELECT * FROM actor\nLIMIT 50;\n```\n\n---\n\n### **23. Distinct film IDs from inventory table**\n\n```sql\nSELECT DISTINCT film_id FROM inventory;\n```\n",
      "metadata": {
        "trusted": true
      },
      "outputs": [],
      "execution_count": null
    },
    {
      "id": "2526e46a-62b2-4a00-861b-d5afce924aaf",
      "cell_type": "code",
      "source": "",
      "metadata": {
        "trusted": true
      },
      "outputs": [],
      "execution_count": null
    },
    {
      "id": "1f6e481c-5638-4171-b509-a10a7bc1277f",
      "cell_type": "code",
      "source": "\n### ✅ **Question 1: Total number of rentals**\n\n```sql\nSELECT COUNT(*) AS total_rentals\nFROM rental;\n```\n\n---\n\n### ✅ **Question 2: Average rental duration (in days)**\n\n```sql\nSELECT AVG(rental_duration) AS average_rental_duration\nFROM film;\n```\n\n> `rental_duration` is stored in the `film` table, representing the rental period for each film.\n\n---\n\n### ✅ **Question 3: Display customer names in uppercase**\n\n```sql\nSELECT UPPER(first_name) AS first_name_upper,\n       UPPER(last_name) AS last_name_upper\nFROM customer;\n```\n\n---\n\n### ✅ **Question 4: Extract month from rental date with rental ID**\n\n```sql\nSELECT rental_id,\n       MONTH(rental_date) AS rental_month\nFROM rental;\n```\n\n---\n\n### ✅ **Question 5: Count of rentals per customer**\n\n```sql\nSELECT customer_id,\n       COUNT(*) AS rental_count\nFROM rental\nGROUP BY customer_id;\n```\n\n---\n\n### ✅ **Question 6: Total revenue per store**\n\n```sql\nSELECT store_id,\n       SUM(amount) AS total_revenue\nFROM payment\nJOIN staff ON payment.staff_id = staff.staff_id\nGROUP BY store_id;\n```\n\n> `payment.staff_id → staff.store_id` is used to associate payments with stores.\n\n---\n\n### ✅ **Question 7: Total rentals per category**\n\n```sql\nSELECT c.name AS category_name,\n       COUNT(r.rental_id) AS total_rentals\nFROM rental r\nJOIN inventory i ON r.inventory_id = i.inventory_id\nJOIN film f ON i.film_id = f.film_id\nJOIN film_category fc ON f.film_id = fc.film_id\nJOIN category c ON fc.category_id = c.category_id\nGROUP BY c.name;\n```\n\n---\n\n### ✅ **Question 8: Average rental rate per language**\n\n```sql\nSELECT l.name AS language,\n       AVG(f.rental_rate) AS average_rental_rate\nFROM film f\nJOIN language l ON f.language_id = l.language_id\nGROUP BY l.name;\n```\n\n",
      "metadata": {
        "trusted": true
      },
      "outputs": [],
      "execution_count": null
    },
    {
      "id": "4a51a0eb-0f44-4d0f-a74b-1174b330b532",
      "cell_type": "code",
      "source": "\n\n### ✅ **Question 9: Movie title and customer name who rented it**\n\n```sql\nSELECT f.title,\n       c.first_name,\n       c.last_name\nFROM rental r\nJOIN inventory i ON r.inventory_id = i.inventory_id\nJOIN film f ON i.film_id = f.film_id\nJOIN customer c ON r.customer_id = c.customer_id;\n```\n\n---\n\n### ✅ **Question 10: Actors in \"Gone with the Wind\"**\n\n```sql\nSELECT a.first_name,\n       a.last_name\nFROM actor a\nJOIN film_actor fa ON a.actor_id = fa.actor_id\nJOIN film f ON fa.film_id = f.film_id\nWHERE f.title = 'Gone with the Wind';\n```\n\n---\n\n### ✅ **Question 11: Customer names and total amount spent**\n\n```sql\nSELECT c.first_name,\n       c.last_name,\n       SUM(p.amount) AS total_spent\nFROM customer c\nJOIN payment p ON c.customer_id = p.customer_id\nGROUP BY c.customer_id, c.first_name, c.last_name;\n```\n\n---\n\n### ✅ **Question 12: Movies rented by each customer in 'London'**\n\n```sql\nSELECT c.first_name,\n       c.last_name,\n       f.title\nFROM customer c\nJOIN address a ON c.address_id = a.address_id\nJOIN city ci ON a.city_id = ci.city_id\nJOIN rental r ON c.customer_id = r.customer_id\nJOIN inventory i ON r.inventory_id = i.inventory_id\nJOIN film f ON i.film_id = f.film_id\nWHERE ci.city = 'London'\nGROUP BY c.first_name, c.last_name, f.title;\n```\n\n---\n\n### ✅ **Question 13: Top 5 most rented movies**\n\n```sql\nSELECT f.title,\n       COUNT(r.rental_id) AS times_rented\nFROM rental r\nJOIN inventory i ON r.inventory_id = i.inventory_id\nJOIN film f ON i.film_id = f.film_id\nGROUP BY f.title\nORDER BY times_rented DESC\nLIMIT 5;\n```\n\n---\n\n### ✅ **Question 14: Customers who rented from both stores (store 1 and store 2)**\n\n```sql\nSELECT customer_id\nFROM (\n    SELECT DISTINCT customer_id, store_id\n    FROM rental r\n    JOIN inventory i ON r.inventory_id = i.inventory_id\n    JOIN staff s ON r.staff_id = s.staff_id\n) AS customer_stores\nGROUP BY customer_id\nHAVING COUNT(DISTINCT store_id) = 2;\n```\n\n> Optionally, to get names:\n\n```sql\nSELECT c.first_name, c.last_name\nFROM customer c\nWHERE c.customer_id IN (\n    SELECT customer_id\n    FROM (\n        SELECT DISTINCT customer_id, store_id\n        FROM rental r\n        JOIN inventory i ON r.inventory_id = i.inventory_id\n        JOIN staff s ON r.staff_id = s.staff_id\n    ) AS customer_stores\n    GROUP BY customer_id\n    HAVING COUNT(DISTINCT store_id) = 2\n);\n",
      "metadata": {
        "trusted": true
      },
      "outputs": [],
      "execution_count": null
    },
    {
      "id": "61118b89-bd8d-4a14-9fcc-4f6477e3bb0a",
      "cell_type": "code",
      "source": "                                            Windows Function:",
      "metadata": {
        "trusted": true
      },
      "outputs": [],
      "execution_count": null
    },
    {
      "id": "80a6e225-5f9b-4a5f-a550-6aae27614c11",
      "cell_type": "code",
      "source": "\n### ✅ **1. Rank the customers based on the total amount they've spent on rentals**\n\n```sql\nSELECT customer_id,\n       first_name,\n       last_name,\n       SUM(amount) AS total_spent,\n       RANK() OVER (ORDER BY SUM(amount) DESC) AS spending_rank\nFROM customer\nJOIN payment ON customer.customer_id = payment.customer_id\nGROUP BY customer.customer_id, first_name, last_name;\n```\n\n---\n\n### ✅ **2. Calculate the cumulative revenue generated by each film over time**\n\n```sql\nSELECT f.title,\n       r.rental_date,\n       SUM(p.amount) OVER (PARTITION BY f.film_id ORDER BY r.rental_date) AS cumulative_revenue\nFROM film f\nJOIN inventory i ON f.film_id = i.film_id\nJOIN rental r ON i.inventory_id = r.inventory_id\nJOIN payment p ON r.rental_id = p.rental_id;\n```\n\n---\n\n### ✅ **3. Average rental duration for each film, considering films with similar lengths**\n\n```sql\nSELECT film_id,\n       title,\n       length,\n       AVG(rental_duration) OVER (PARTITION BY length) AS avg_rental_duration_for_length_group\nFROM film;\n```\n\n---\n\n### ✅ **4. Top 3 films in each category based on rental counts**\n\n```sql\nSELECT category_name, title, rental_count\nFROM (\n    SELECT c.name AS category_name,\n           f.title,\n           COUNT(r.rental_id) AS rental_count,\n           RANK() OVER (PARTITION BY c.name ORDER BY COUNT(r.rental_id) DESC) AS film_rank\n    FROM rental r\n    JOIN inventory i ON r.inventory_id = i.inventory_id\n    JOIN film f ON i.film_id = f.film_id\n    JOIN film_category fc ON f.film_id = fc.film_id\n    JOIN category c ON fc.category_id = c.category_id\n    GROUP BY c.name, f.title\n) ranked\nWHERE film_rank <= 3;\n```\n\n---\n\n### ✅ **5. Difference in rental counts between each customer and the average rentals**\n\n```sql\nSELECT customer_id,\n       COUNT(rental_id) AS total_rentals,\n       ROUND(AVG(COUNT(rental_id)) OVER (), 2) AS avg_rentals,\n       COUNT(rental_id) - ROUND(AVG(COUNT(rental_id)) OVER (), 2) AS rental_diff\nFROM rental\nGROUP BY customer_id;\n```\n\n---\n\n### ✅ **6. Monthly revenue trend for the entire rental store**\n\n```sql\nSELECT DATE_FORMAT(payment_date, '%Y-%m') AS month,\n       SUM(amount) AS total_revenue\nFROM payment\nGROUP BY DATE_FORMAT(payment_date, '%Y-%m')\nORDER BY month;\n```\n\n---\n\n### ✅ **7. Customers in top 20% by total spending**\n\n```sql\nWITH ranked_customers AS (\n    SELECT customer_id,\n           first_name,\n           last_name,\n           SUM(amount) AS total_spent,\n           PERCENT_RANK() OVER (ORDER BY SUM(amount) DESC) AS percentile\n    FROM customer\n    JOIN payment ON customer.customer_id = payment.customer_id\n    GROUP BY customer_id, first_name, last_name\n)\nSELECT *\nFROM ranked_customers\nWHERE percentile <= 0.2;\n```\n\n---\n\n### ✅ **8. Running total of rentals per category**\n\n```sql\nSELECT c.name AS category_name,\n       COUNT(r.rental_id) AS rental_count,\n       SUM(COUNT(r.rental_id)) OVER (ORDER BY c.name) AS running_total\nFROM rental r\nJOIN inventory i ON r.inventory_id = i.inventory_id\nJOIN film f ON i.film_id = f.film_id\nJOIN film_category fc ON f.film_id = fc.film_id\nJOIN category c ON fc.category_id = c.category_id\nGROUP BY c.name;\n```\n\n---\n\n### ✅ **9. Films rented less than the average rental count in their category**\n\n```sql\nWITH film_rentals AS (\n    SELECT f.film_id,\n           f.title,\n           c.name AS category,\n           COUNT(r.rental_id) AS rental_count\n    FROM film f\n    JOIN film_category fc ON f.film_id = fc.film_id\n    JOIN category c ON fc.category_id = c.category_id\n    JOIN inventory i ON f.film_id = i.film_id\n    JOIN rental r ON i.inventory_id = r.inventory_id\n    GROUP BY f.film_id, f.title, c.name\n),\navg_rentals AS (\n    SELECT category,\n           AVG(rental_count) AS avg_rentals\n    FROM film_rentals\n    GROUP BY category\n)\nSELECT fr.title,\n       fr.category,\n       fr.rental_count,\n       ar.avg_rentals\nFROM film_rentals fr\nJOIN avg_rentals ar ON fr.category = ar.category\nWHERE fr.rental_count < ar.avg_rentals;\n```\n\n---\n\n### ✅ **10. Top 5 months with highest revenue**\n\n```sql\nSELECT revenue_month,\n       total_revenue\nFROM (\n    SELECT DATE_FORMAT(payment_date, '%Y-%m') AS revenue_month,\n           SUM(amount) AS total_revenue,\n           RANK() OVER (ORDER BY SUM(amount) DESC) AS revenue_rank\n    FROM payment\n    GROUP BY DATE_FORMAT(payment_date, '%Y-%m')\n) ranked_months\nWHERE revenue_rank <= 5;\n```\n",
      "metadata": {
        "trusted": true
      },
      "outputs": [],
      "execution_count": null
    },
    {
      "id": "21046586-1a58-4212-956b-2de9717a3a94",
      "cell_type": "code",
      "source": "                                          Normalisation & CTE",
      "metadata": {
        "trusted": true
      },
      "outputs": [],
      "execution_count": null
    },
    {
      "id": "c1805d16-85d4-4ff2-a9a2-16adcc754bca",
      "cell_type": "code",
      "source": "\n\n## 🔷 Normalization\n\n### ✅ **1. First Normal Form (1NF)**\n\n> **1NF Rule**: All table attributes must contain **atomic** (indivisible) values.\n\n**Violation Example:**\n\n* Suppose a hypothetical table `customer_phone` with a column `phone_numbers` like:\n\n  ```\n  | customer_id | phone_numbers         |\n  |-------------|------------------------|\n  | 1           | 1234567890, 9876543210 |\n  ```\n\n**Fix:**\n\n* Normalize into:\n\n  ```\n  customer_id | phone_number\n  ------------|--------------\n  1           | 1234567890\n  1           | 9876543210\n  ```\n\n---\n\n### ✅ **2. Second Normal Form (2NF)**\n\n> **2NF Rule**: No **partial dependencies** on a composite primary key.\n\n**Example Table**: `film_actor`\n\n* Composite PK: (`film_id`, `actor_id`)\n* If an attribute like `actor_name` was stored in this table, it's only dependent on `actor_id`.\n\n**Fix:**\n\n* Move `actor_name` to a separate `actor` table where `actor_id` is the primary key.\n\n---\n\n### ✅ **3. Third Normal Form (3NF)**\n\n> **3NF Rule**: No **transitive dependencies** — all non-key columns must depend only on the primary key.\n\n**Example Table**: Suppose a table:\n\n```\n| payment_id | customer_id | customer_name | amount |\n```\n\n* `customer_name` depends on `customer_id`, not directly on `payment_id`.\n\n**Fix:**\n\n* Move `customer_name` to a separate `customer` table.\n\n---\n\n### ✅ **4. Normalization Process (up to 2NF)**\n\n**Unnormalized Table:**\n\n```\n| customer_id | customer_name | film_titles         |\n|-------------|----------------|---------------------|\n| 1           | Alice          | 'Matrix, Inception' |\n```\n\n**1NF:**\n\n```\n| customer_id | customer_name | film_title  |\n|-------------|----------------|-------------|\n| 1           | Alice          | Matrix      |\n| 1           | Alice          | Inception   |\n```\n\n**2NF:**\n\n* Remove redundant `customer_name` (dependent only on `customer_id`):\n\n```\nCustomer Table:\n| customer_id | customer_name |\n\nCustomer_Film Table:\n| customer_id | film_title    |\n```\n\n---\n\n## 🔷 CTE (Common Table Expressions)\n\n### ✅ **5. CTE Basics – Actor name and number of films**\n\n```sql\nWITH actor_films AS (\n    SELECT actor_id,\n           CONCAT(first_name, ' ', last_name) AS actor_name,\n           COUNT(film_id) AS film_count\n    FROM film_actor\n    JOIN actor USING (actor_id)\n    GROUP BY actor_id, actor_name\n)\nSELECT * FROM actor_films;\n```\n\n---\n\n### ✅ **6. CTE with Joins – Film title, language name, rental rate**\n\n```sql\nWITH film_info AS (\n    SELECT f.title,\n           l.name AS language,\n           f.rental_rate\n    FROM film f\n    JOIN language l ON f.language_id = l.language_id\n)\nSELECT * FROM film_info;\n```\n\n---\n\n### ✅ **7. CTE for Aggregation – Total revenue by customer**\n\n```sql\nWITH customer_revenue AS (\n    SELECT customer_id,\n           SUM(amount) AS total_revenue\n    FROM payment\n    GROUP BY customer_id\n)\nSELECT c.first_name, c.last_name, cr.total_revenue\nFROM customer c\nJOIN customer_revenue cr ON c.customer_id = cr.customer_id;\n```\n\n---\n\n### ✅ **8. CTE with Window Functions – Rank films by rental duration**\n\n```sql\nWITH film_ranks AS (\n    SELECT title,\n           rental_duration,\n           RANK() OVER (ORDER BY rental_duration DESC) AS rank_by_duration\n    FROM film\n)\nSELECT * FROM film_ranks;\n```\n\n---\n\n### ✅ **9. CTE and Filtering – Customers with more than 2 rentals**\n\n```sql\nWITH frequent_customers AS (\n    SELECT customer_id,\n           COUNT(*) AS rental_count\n    FROM rental\n    GROUP BY customer_id\n    HAVING COUNT(*) > 2\n)\nSELECT c.customer_id, c.first_name, c.last_name\nFROM customer c\nJOIN frequent_customers f ON c.customer_id = f.customer_id;\n```\n\n---\n\n### ✅ **10. CTE for Date Calculations – Rentals per month**\n\n```sql\nWITH monthly_rentals AS (\n    SELECT DATE_FORMAT(rental_date, '%Y-%m') AS rental_month,\n           COUNT(*) AS total_rentals\n    FROM rental\n    GROUP BY rental_month\n)\nSELECT * FROM monthly_rentals;\n```\n\n---\n\n### ✅ **11. CTE and Self-Join – Pairs of actors in same film**\n\n```sql\nWITH actor_pairs AS (\n    SELECT fa1.film_id,\n           fa1.actor_id AS actor1,\n           fa2.actor_id AS actor2\n    FROM film_actor fa1\n    JOIN film_actor fa2 ON fa1.film_id = fa2.film_id\n    WHERE fa1.actor_id < fa2.actor_id\n)\nSELECT a1.first_name AS actor1_first, a1.last_name AS actor1_last,\n       a2.first_name AS actor2_first, a2.last_name AS actor2_last,\n       f.title\nFROM actor_pairs ap\nJOIN actor a1 ON ap.actor1 = a1.actor_id\nJOIN actor a2 ON ap.actor2 = a2.actor_id\nJOIN film f ON ap.film_id = f.film_id;\n```\n\n---\n\n### ✅ **12. Recursive CTE – Find employees reporting to a specific manager**\n\nAssuming `staff(reports_to)` exists (not in Sakila, but for demo):\n\n```sql\nWITH RECURSIVE subordinates AS (\n    SELECT staff_id, first_name, last_name, reports_to\n    FROM staff\n    WHERE staff_id = 1  -- starting manager\n\n    UNION ALL\n\n    SELECT s.staff_id, s.first_name, s.last_name, s.reports_to\n    FROM staff s\n    JOIN subordinates sub ON s.reports_to = sub.staff_id\n)\nSELECT * FROM subordinates;\n``",
      "metadata": {
        "trusted": true
      },
      "outputs": [],
      "execution_count": null
    }
  ]
}