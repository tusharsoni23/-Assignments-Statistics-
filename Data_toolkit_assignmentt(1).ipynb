{
  "metadata": {
    "kernelspec": {
      "name": "python",
      "display_name": "Python (Pyodide)",
      "language": "python"
    },
    "language_info": {
      "codemirror_mode": {
        "name": "python",
        "version": 3
      },
      "file_extension": ".py",
      "mimetype": "text/x-python",
      "name": "python",
      "nbconvert_exporter": "python",
      "pygments_lexer": "ipython3",
      "version": "3.8"
    }
  },
  "nbformat_minor": 4,
  "nbformat": 4,
  "cells": [
    {
      "cell_type": "code",
      "source": "#1.Demonstrate three different methods for creating identical 2D arrays in NumPy. Provide the code for each method and the final output after each method\n\n\n\n#Ans # 1. Using `numpy.array()`\n\n#This method directly creates a 2D array from a list of lists.\n\n\nimport numpy as np\n\n# Example data from People Data.csv\ndata = [\n    [39, \"Tax adviser\", \"cC7cc25dDF9Bc7c\", \"Cody\", \"Stafford\", \"Female\", \"cfitzgerald@example.net\"],\n    [18, \"Systems analyst\", \"B7Bfd6CCb6e3550\", \"Sonia\", \"Hendricks\", \"Female\", \"judywagner@example.org\"],\n    [60, \"IT technical support officer\", \"B2fF6d256E04A02\", \"Bill\", \"Glass\", \"Female\", \"gabrielgriffith@example.net\"]]\n\narray1 = np.array(data)\nprint(\"Array created using np.array():\")\nprint(array1)\n\n\n# 2. Using `numpy.zeros()`\n\n#This method creates a 2D array filled with zeros, which can then be populated with data.\n\n\n# Create an empty array with shape (3, 7) and populate it\narray2 = np.zeros((3, 7), dtype=object)\n\n# Fill the array with data\narray2[0] = [39, \"Tax adviser\", \"cC7cc25dDF9Bc7c\", \"Cody\", \"Stafford\", \"Female\", \"cfitzgerald@example.net\"]\narray2[1] = [18, \"Systems analyst\", \"B7Bfd6CCb6e3550\", \"Sonia\", \"Hendricks\", \"Female\", \"judywagner@example.org\"]\narray2[2] = [60, \"IT technical support officer\", \"B2fF6d256E04A02\", \"Bill\", \"Glass\", \"Female\", \"gabrielgriffith@example.net\"]\n\nprint(\"\\nArray created using np.zeros():\")\nprint(array2)\n\n\n\n# 3. Using `numpy.ones()`\n\n#This method creates a 2D array filled with ones, which can then also be populated with data.\n\n# Create an empty array with shape (3, 7) and populate it\narray3 = np.ones((3, 7), dtype=object)\n\n# Fill the array with data\narray3[0] = [39, \"Tax adviser\", \"cC7cc25dDF9Bc7c\", \"Cody\", \"Stafford\", \"Female\", \"cfitzgerald@example.net\"]\narray3[1] = [18, \"Systems analyst\", \"B7Bfd6CCb6e3550\", \"Sonia\", \"Hendricks\", \"Female\", \"judywagner@example.org\"]\narray3[2] = [60, \"IT technical support officer\", \"B2fF6d256E04A02\", \"Bill\", \"Glass\", \"Female\", \"gabrielgriffith@example.net\"]\n\nprint(\"\\nArray created using np.ones():\")\nprint(array3)",
      "metadata": {
        "trusted": true
      },
      "outputs": [
        {
          "name": "stdout",
          "text": "Array created using np.array():\n[['39' 'Tax adviser' 'cC7cc25dDF9Bc7c' 'Cody' 'Stafford' 'Female'\n  'cfitzgerald@example.net']\n ['18' 'Systems analyst' 'B7Bfd6CCb6e3550' 'Sonia' 'Hendricks' 'Female'\n  'judywagner@example.org']\n ['60' 'IT technical support officer' 'B2fF6d256E04A02' 'Bill' 'Glass'\n  'Female' 'gabrielgriffith@example.net']]\n\nArray created using np.zeros():\n[[39 'Tax adviser' 'cC7cc25dDF9Bc7c' 'Cody' 'Stafford' 'Female'\n  'cfitzgerald@example.net']\n [18 'Systems analyst' 'B7Bfd6CCb6e3550' 'Sonia' 'Hendricks' 'Female'\n  'judywagner@example.org']\n [60 'IT technical support officer' 'B2fF6d256E04A02' 'Bill' 'Glass'\n  'Female' 'gabrielgriffith@example.net']]\n\nArray created using np.ones():\n[[39 'Tax adviser' 'cC7cc25dDF9Bc7c' 'Cody' 'Stafford' 'Female'\n  'cfitzgerald@example.net']\n [18 'Systems analyst' 'B7Bfd6CCb6e3550' 'Sonia' 'Hendricks' 'Female'\n  'judywagner@example.org']\n [60 'IT technical support officer' 'B2fF6d256E04A02' 'Bill' 'Glass'\n  'Female' 'gabrielgriffith@example.net']]\n",
          "output_type": "stream"
        }
      ],
      "execution_count": 5
    },
    {
      "cell_type": "code",
      "source": "#2.Using the Numpy function, generate an array of 100 evenly spaced numbers between 1 and 10 and Reshape that 1D array into a 2D array\n#ans. import numpy as np\n\n# Generate 100 evenly spaced numbers between 1 and 10\narray_1d = np.linspace(1, 10, 100)\n\n# Reshape the 1D array into a 2D array (for example, 10 rows and 10 columns)\narray_2d = array_1d.reshape(10, 10)\n\nprint(array_2d)\n",
      "metadata": {
        "trusted": true
      },
      "outputs": [
        {
          "name": "stdout",
          "text": "[[ 1.          1.09090909  1.18181818  1.27272727  1.36363636  1.45454545\n   1.54545455  1.63636364  1.72727273  1.81818182]\n [ 1.90909091  2.          2.09090909  2.18181818  2.27272727  2.36363636\n   2.45454545  2.54545455  2.63636364  2.72727273]\n [ 2.81818182  2.90909091  3.          3.09090909  3.18181818  3.27272727\n   3.36363636  3.45454545  3.54545455  3.63636364]\n [ 3.72727273  3.81818182  3.90909091  4.          4.09090909  4.18181818\n   4.27272727  4.36363636  4.45454545  4.54545455]\n [ 4.63636364  4.72727273  4.81818182  4.90909091  5.          5.09090909\n   5.18181818  5.27272727  5.36363636  5.45454545]\n [ 5.54545455  5.63636364  5.72727273  5.81818182  5.90909091  6.\n   6.09090909  6.18181818  6.27272727  6.36363636]\n [ 6.45454545  6.54545455  6.63636364  6.72727273  6.81818182  6.90909091\n   7.          7.09090909  7.18181818  7.27272727]\n [ 7.36363636  7.45454545  7.54545455  7.63636364  7.72727273  7.81818182\n   7.90909091  8.          8.09090909  8.18181818]\n [ 8.27272727  8.36363636  8.45454545  8.54545455  8.63636364  8.72727273\n   8.81818182  8.90909091  9.          9.09090909]\n [ 9.18181818  9.27272727  9.36363636  9.45454545  9.54545455  9.63636364\n   9.72727273  9.81818182  9.90909091 10.        ]]\n",
          "output_type": "stream"
        }
      ],
      "execution_count": 6
    },
    {
      "cell_type": "code",
      "source": "#3 Explain the following termsg\n# The difference in np.array, np.asarray and np.asanyarrayX\n# The difference between Deep copy and shallow copyX\n\n#ANS\n# 1. Difference between `np.array`, `np.asarray`, and `np.asanyarray`\n\n- `np.array`:\n  - Creates a new array regardless of the input type.\n  - It will always return a NumPy array, copying the data by default unless specified otherwise.\n  - It allows you to specify additional parameters like `dtype`, `order`, etc.\n  - Example:\n   \n    import numpy as np\n    arr = np.array([1, 2, 3])  # Creates a new NumPy array\n    ```\n\n- `np.asarray`:\n  - Converts the input to an array, but it does not copy the data if the input is already an array of the same type.\n  - It is useful when you want to ensure that you have a NumPy array without unnecessary copying.\n  - Example:\n   \n    arr = np.asarray([1, 2, 3])  # Converts list to NumPy array, no copy if input is already an array\n    ```\n\n- `np.asanyarray`:\n  - Similar to `np.asarray`, but it allows for input of subclasses of ndarray (like masked arrays).\n  - It will return the input as an array, preserving subclasses if applicable.\n  - Useful when you want to allow input of different array-like objects while ensuring the output is at least an ndarray.\n  - Example:\n   \n    class MyArray(np.ndarray):\n        pass\n\n    arr = np.asanyarray(MyArray([1, 2, 3]))  # Returns the input as MyArray\n    ```\n\n# 2. Difference between Deep Copy and Shallow Copy\n\n- Shallow Copy:\n  - A shallow copy creates a new object, but inserts references into it to the objects found in the original.\n  - If the original object contains references to other mutable objects, modifying those mutable objects through the shallow copy will reflect in the original object.\n  - Example in Python:\n    ```python\n    import copy\n\n    original = [1, 2, [3, 4]]\n    shallow_copy = copy.copy(original)\n    shallow_copy[2][0] = 'changed'\n    print(original)  \n  \n\n- Deep Copy:\n  - A deep copy creates a new object and recursively adds copies of nested objects found in the original.\n  - Modifications to the deep copy will not affect the original object, even for mutable objects within it.\n  - Example in Python:\n    import copy\n\n    original = [1, 2, [3, 4]]\n    deep_copy = copy.deepcopy(original)\n    deep_copy[2][0] = 'changed'\n    print(original)  # Output: [1, 2, [3, 4]]",
      "metadata": {
        "trusted": true
      },
      "outputs": [],
      "execution_count": null
    },
    {
      "cell_type": "code",
      "source": "#4.Generate a 3x3 array with random floating-point numbers between 5 and 20. Then, round each number in the array to 2 decimal places.8\n#Ans. \nimport numpy as np\n\n# Generate a 3x3 array with random floating-point numbers between 5 and 20\narray_3x3 = np.random.uniform(5, 20, (3, 3))\n\n# Round each number to 2 decimal places\nrounded_array = np.round(array_3x3, 2)\n\nprint(rounded_array)\n",
      "metadata": {
        "trusted": true
      },
      "outputs": [],
      "execution_count": null
    },
    {
      "cell_type": "code",
      "source": "#5.- Create a NumPy array with random integers between 1 and 10 of shape (5, 6). After creating the array\n#perform the following operations:\n\n#a)Extract all even integers from array.\n\n#b)Extract all odd integers from arrayX\n#Ans. import numpy as np\n\n# Create a 5x6 array with random integers between 1 and 10\narray_5x6 = np.random.randint(1, 11, (5, 6))\n\n# Print the original array\nprint(\"Original Array:\")\nprint(array_5x6)\n\n# a) Extract all even integers from the array\neven_integers = array_5x6[array_5x6 % 2 == 0]\n\n# Print even integers\nprint(\"\\nEven Integers:\")\nprint(even_integers)\n\n# b) Extract all odd integers from the array\nodd_integers = array_5x6[array_5x6 % 2 != 0]\n\n# Print odd integers\nprint(\"\\nOdd Integers:\")\nprint(odd_integers)\n",
      "metadata": {
        "trusted": true
      },
      "outputs": [],
      "execution_count": null
    },
    {
      "cell_type": "code",
      "source": "#6.Create a 3D NumPy array of shape (3, 3, 3) containing random integers between 1 and 10. Perform the following operations:\n\n#a) Find the indices of the maximum values along each depth level (third axis).\n\n#b) Perform element-wise multiplication of between both arrayX\n#Ans.\nimport numpy as np\n\n# Create a 3D array of shape (3, 3, 3) with random integers between 1 and 10\narray_3d = np.random.randint(1, 11, (3, 3, 3))\n\n# Print the original array\nprint(\"Original 3D Array:\")\nprint(array_3d)\n\n# a) Find the indices of the maximum values along each depth level (third axis)\nmax_indices = np.argmax(array_3d, axis=2)\n\n# Print the indices of the maximum values\nprint(\"\\nIndices of Maximum Values along Depth Level (third axis):\")\nprint(max_indices)\n\n# b) Perform element-wise multiplication of the array with itself\nelementwise_multiplication = array_3d * array_3d\n\n# Print the result of the element-wise multiplication\nprint(\"\\nElement-wise Multiplication of the Array:\")\nprint(elementwise_multiplication)\n",
      "metadata": {
        "trusted": true
      },
      "outputs": [],
      "execution_count": null
    },
    {
      "cell_type": "code",
      "source": "#7.Clean and transform the 'Phone' column in the sample dataset to remove non-numeric characters and convert it to a numeric data type. Also display the table attributes and data types of each columnlean and transform the 'Phone' column in the sample dataset to remove non-numeric characters and convert it to a numeric data type. Also display the table attributes and data types of each column\n#Ans.import pandas as pd\n\n# Sample dataset\ndata = {\n    'Name': ['Alice', 'Bob', 'Charlie'],\n    'Phone': ['(123) 456-7890', '987-654-3210', '555.123.4567'],\n    'Age': [25, 30, 35]\n}\n\n# Create a DataFrame\ndf = pd.DataFrame(data)\n\n# Display the original DataFrame\nprint(\"Original DataFrame:\")\nprint(df)\n\n# Clean and transform the 'Phone' column\ndf['Phone'] = df['Phone'].replace(r'\\D+', '', regex=True).astype(int)\n\n# Display the cleaned DataFrame\nprint(\"\\nCleaned DataFrame:\")\nprint(df)\n\n# Display the attributes and data types of each column\nprint(\"\\nData Types of Each Column:\")\nprint(df.dtypes)\n",
      "metadata": {
        "trusted": true
      },
      "outputs": [],
      "execution_count": null
    },
    {
      "cell_type": "code",
      "source": "#8. Perform the following tasks using people dataset:\n\n#a) Read the 'data.csv' file using pandas, skipping the first 50 rows.\n\n#b) Only read the columns: 'Last Name', ‘Gender’,’Email’,‘Phone’ and ‘Salary’ from the file.\n\n#c) Display the first 10 rows of the filtered dataset.\n\n#d) Extract the ‘Salary’' column as a Series and display its last 5 valuesX\n#Here’s how you can perform the tasks using the `people.csv` dataset with pandas. I'll provide the code for each step, assuming you have the `pandas` library installed and the dataset accessible.\n\n### a) Read the 'data.csv' file using pandas, skipping the first 50 rows.\n\n#ans.\nimport pandas as pd\n\n# Read the CSV file, skipping the first 50 rows\ndf = pd.read_csv('data.csv', skiprows=50)\n\n# b) Only read the columns: 'Last Name', ‘Gender’, ’Email’, ‘Phone’, and ‘Salary’ from the file.\n\n# Filter the columns to keep only the specified ones\nfiltered_df = df[['Last Name', 'Gender', 'Email', 'Phone', 'Salary']]\n\n\n# c) Display the first 10 rows of the filtered dataset.\n\npython\n# Display the first 10 rows of the filtered dataset\nprint(filtered_df.head(10))\n\n\n# d) Extract the ‘Salary’ column as a Series and display its last 5 values.\n\n\n# Extract the 'Salary' column as a Series\nsalary_series = filtered_df['Salary']\n\n# Display the last 5 values of the Salary Series\nprint(salary_series.tail(5))\n\n",
      "metadata": {
        "trusted": true
      },
      "outputs": [],
      "execution_count": null
    },
    {
      "cell_type": "code",
      "source": "#9.Filter and select rows from the People_Dataset, where the “Last Name' column contains the name 'Duke','Gender' column contains the word Female and ‘Salary’ should be less than 85000\n#Ans.\nimport pandas as pd\n\n# Read the CSV file, skipping the first 50 rows\ndf = pd.read_csv('data.csv', skiprows=50)\n\n# Filter the DataFrame based on the conditions\nfiltered_rows = df[\n    (df['Last Name'].str.contains('Duke', case=False, na=False)) &  # 'Last Name' contains 'Duke'\n    (df['Gender'].str.contains('Female', case=False, na=False)) &  # 'Gender' contains 'Female'\n    (df['Salary'] < 85000)  # 'Salary' is less than 85000\n]\n\n# Display the filtered rows\nprint(filtered_rows)\n",
      "metadata": {
        "trusted": true
      },
      "outputs": [],
      "execution_count": null
    },
    {
      "cell_type": "code",
      "source": "#10.Create a 7*5 Dataframe in Pandas using a series generated from 35 random integers between 1 to 6?\n#ans\nimport pandas as pd\nimport numpy as np\n\n# Generate 35 random integers between 1 and 6\nrandom_integers = np.random.randint(1, 7, size=35)\n\n# Create a DataFrame with 7 rows and 5 columns\ndf = pd.DataFrame(random_integers.reshape(7, 5), columns=[f'Col{i+1}' for i in range(5)])\n\n# Display the DataFrame\nprint(\"7x5 DataFrame:\")\nprint(df)\n",
      "metadata": {
        "trusted": true
      },
      "outputs": [],
      "execution_count": null
    },
    {
      "cell_type": "code",
      "source": "#11.KKg Create two different Series, each of length 50, with the following criteria:\n\n#a) The first Series should contain random numbers ranging from 10 to 50.\n\n#b) The second Series should contain random numbers ranging from 100 to 1000.\n\n#c) Create a DataFrame by joining these Series by column, and, change the names of the columns to 'col1', 'col2',etc.\n#ANS.\nimport pandas as pd\nimport numpy as np\n\n# a) Create the first Series with random numbers ranging from 10 to 50\nseries1 = np.random.randint(10, 51, size=50)\n\n# b) Create the second Series with random numbers ranging from 100 to 1000\nseries2 = np.random.randint(100, 1001, size=50)\n\n# c) Create a DataFrame by joining these Series by column\ndf = pd.DataFrame({\n    'col1': series1,\n    'col2': series2})\n\n# Display the DataFrame\nprint(\"DataFrame with Random Numbers:\")\nprint(df)\n\n",
      "metadata": {
        "trusted": true
      },
      "outputs": [],
      "execution_count": null
    },
    {
      "cell_type": "code",
      "source": "#12. Perform the following operations using people data set:\n\n#a) Delete the 'Email', 'Phone', and 'Date of birth' columns from the dataset.\n\n#b) Delete the rows containing any missing values.\n\n#d) Print the final output also\n#Ans.\nimport pandas as pd\n\n# Sample people dataset\ndata = {\n    'Name': ['Alice', 'Bob', 'Charlie', 'David', 'Eva'],\n    'Email': ['alice@example.com', 'bob@example.com', None, 'david@example.com', 'eva@example.com'],\n    'Phone': ['123-456-7890', '987-654-3210', '555-555-5555', None, '444-444-4444'],\n    'Date of birth': ['1990-01-01', '1985-05-12', '1978-11-30', '2000-03-15', None],\n    'Age': [30, 35, 42, 23, 28]\n}\n\n# Create a DataFrame\npeople_df = pd.DataFrame(data)\n\n# Display the original DataFrame\nprint(\"Original DataFrame:\")\nprint(people_df)\n\n# a) Delete the 'Email', 'Phone', and 'Date of birth' columns\npeople_df.drop(columns=['Email', 'Phone', 'Date of birth'], inplace=True)\n\n# b) Delete the rows containing any missing values\npeople_df.dropna(inplace=True)\n\n# d) Print the final output\nprint(\"\\nFinal DataFrame after operations:\")\nprint(people_df)\n",
      "metadata": {
        "trusted": true
      },
      "outputs": [],
      "execution_count": null
    },
    {
      "cell_type": "code",
      "source": "#13. Create two NumPy arrays, x and y, each containing 100 random float values between 0 and 1. Perform thefollowing tasks using Matplotlib and NumPy:\n\n#a) Create a scatter plot using x and y, setting the color of the points to red and the marker style to 'o'.\n\n#b) Add a horizontal line at y = 0.5 using a dashed line style and label it as 'y = 0.5'.\n\n#c) Add a vertical line at x = 0.5 using a dotted line style and label it as 'x = 0.5'.\n\n#d) Label the x-axis as 'X-axis' and the y-axis as 'Y-axis'.\n\n#e) Set the title of the plot as 'Advanced Scatter Plot of Random Values'.\n\n#f) Display a legend for the scatter plot, the horizontal line, and the vertical line.\n#ANS.\nimport numpy as np\nimport matplotlib.pyplot as plt\n\n# Create two NumPy arrays, x and y, each containing 100 random float values between 0 and 1\nx = np.random.rand(100)\ny = np.random.rand(100)\n\n# a) Create a scatter plot using x and y\nplt.scatter(x, y, color='red', marker='o', label='Random Points')\n\n# b) Add a horizontal line at y = 0.5\nplt.axhline(y=0.5, color='blue', linestyle='--', label='y = 0.5')\n\n# c) Add a vertical line at x = 0.5\nplt.axvline(x=0.5, color='green', linestyle=':', label='x = 0.5')\n\n# d) Label the axes\nplt.xlabel('X-axis')\nplt.ylabel('Y-axis')\n\n# e) Set the title of the plot\nplt.title('Advanced Scatter Plot of Random Values')\n\n# f) Display a legend\nplt.legend()\n\n# Show the plot\nplt.show()\n",
      "metadata": {
        "trusted": true
      },
      "outputs": [],
      "execution_count": null
    },
    {
      "cell_type": "code",
      "source": " #14.Create a time-series dataset in a Pandas DataFrame with columns: 'Date', 'Temperature', 'Humidity' and Perform the following tasks using Matplotlib\n\n#a) Plot the 'Temperature' and 'Humidity' on the same plot with different y-axes (left y-axis for 'Temperature' an right y-axis for 'Humidity').\n\n#b) Label the x-axis as 'Date'.\n\n#c) Set the title of the plot as 'Temperature and Humidity Over Time'\n#ans.\nimport pandas as pd\nimport numpy as np\nimport matplotlib.pyplot as plt\n\n# Create a time-series dataset\ndate_rng = pd.date_range(start='2023-01-01', end='2023-01-10', freq='D')\ntemperature = np.random.uniform(low=15, high=30, size=len(date_rng))  # Random temperatures\nhumidity = np.random.uniform(low=30, high=100, size=len(date_rng))  # Random humidity levels\n\n# Create a DataFrame\ndf = pd.DataFrame({\n    'Date': date_rng,\n    'Temperature': temperature,\n    'Humidity': humidity\n})\n\n# Set the 'Date' column as the index\ndf.set_index('Date', inplace=True)\n\n# Plot the 'Temperature' and 'Humidity'\nfig, ax1 = plt.subplots()\n\n# Plot Temperature on the left y-axis\nax1.plot(df.index, df['Temperature'], color='red', label='Temperature')\nax1.set_xlabel('Date')\nax1.set_ylabel('Temperature (°C)', color='red')\nax1.tick_params(axis='y', labelcolor='red')\n\n# Create a second y-axis for Humidity\nax2 = ax1.twinx()\nax2.plot(df.index, df['Humidity'], color='blue', label='Humidity')\nax2.set_ylabel('Humidity (%)', color='blue')\nax2.tick_params(axis='y', labelcolor='blue')\n\n# Set the title of the plot\nplt.title('Temperature and Humidity Over Time')\n\n# Show the plot\nplt.show()\n",
      "metadata": {
        "trusted": true
      },
      "outputs": [],
      "execution_count": null
    },
    {
      "cell_type": "code",
      "source": "#15. Create a NumPy array data containing 1000 samples from a normal distribution. Perform the following tasks using Matplotlib:\n#a) Plot a histogram of the data with 30 bins.\n\n#b) Overlay a line plot representing the normal distribution's probability density function (PDF).\n\n#c) Label the x-axis as 'Value' and the y-axis as 'Frequency/Probability'.\n\n#d) Set the title of the plot as 'Histogram with PDF Overlay'\n#ans.\nimport numpy as np\nimport matplotlib.pyplot as plt\nfrom scipy.stats import norm\n\n# Create a NumPy array with 1000 samples from a normal distribution\ndata = np.random.normal(loc=0, scale=1, size=1000)  # Mean = 0, Std Dev = 1\n\n# a) Plot a histogram of the data with 30 bins\nplt.hist(data, bins=30, density=True, alpha=0.6, color='g', label='Histogram')\n\n# b) Overlay a line plot representing the normal distribution's probability density function (PDF)\nxmin, xmax = plt.xlim()  # Get the limits of x-axis\nx = np.linspace(xmin, xmax, 100)  # Generate values for x-axis\np = norm.pdf(x, loc=0, scale=1)  # Calculate PDF for a normal distribution\nplt.plot(x, p, 'k', linewidth=2, label='PDF')\n\n# c) Label the x-axis and y-axis\nplt.xlabel('Value')\nplt.ylabel('Frequency/Probability')\n\n# d) Set the title of the plot\nplt.title('Histogram with PDF Overlay')\n\n# Display the legend\nplt.legend()\n\n# Show the plot\nplt.show()\n",
      "metadata": {
        "trusted": true
      },
      "outputs": [],
      "execution_count": null
    },
    {
      "cell_type": "code",
      "source": "#16.g Set the title of the plot as 'Histogram with PDF Overlay'\n#Ans.\nimport numpy as np\nimport matplotlib.pyplot as plt\nfrom scipy.stats import norm\n\n# Create a NumPy array with 1000 samples from a normal distribution\ndata = np.random.normal(loc=0, scale=1, size=1000)  # Mean = 0, Std Dev = 1\n\n# a) Plot a histogram of the data with 30 bins\nplt.hist(data, bins=30, density=True, alpha=0.6, color='g', label='Histogram')\n\n# b) Overlay a line plot representing the normal distribution's probability density function (PDF)\nxmin, xmax = plt.xlim()  # Get the limits of x-axis\nx = np.linspace(xmin, xmax, 100)  # Generate values for x-axis\np = norm.pdf(x, loc=0, scale=1)  # Calculate PDF for a normal distribution\nplt.plot(x, p, 'k', linewidth=2, label='PDF')\n\n# c) Label the x-axis and y-axis\nplt.xlabel('Value')\nplt.ylabel('Frequency/Probability')\n\n# d) Set the title of the plot\nplt.title('Histogram with PDF Overlay')\n\n# Display the legend\nplt.legend()\n\n# Show the plot\nplt.show()\n",
      "metadata": {
        "trusted": true
      },
      "outputs": [],
      "execution_count": null
    },
    {
      "cell_type": "code",
      "source": "#17. Create a Seaborn scatter plot of two random arrays, color points based on their position relative to the origin (quadrants), add a legend, label the axes, and set the title as 'Quadrant-wise Scatter Plot'.\n#Ans.\nimport numpy as np\nimport matplotlib.pyplot as plt\n\n# Generate random data\nnp.random.seed(0)  # For reproducibility\nx = np.random.uniform(-10, 10, 100)\ny = np.random.uniform(-10, 10, 100)\n\n# Create figure and axis\nplt.figure(figsize=(8, 8))\n\n# Plotting points based on quadrants\n# Quadrant I\nplt.scatter(x[(x > 0) & (y > 0)], y[(x > 0) & (y > 0)], color='green', label='Quadrant I (x > 0, y > 0)', alpha=0.6)\n# Quadrant II\nplt.scatter(x[(x < 0) & (y > 0)], y[(x < 0) & (y > 0)], color='blue', label='Quadrant II (x < 0, y > 0)', alpha=0.6)\n# Quadrant III\nplt.scatter(x[(x < 0) & (y < 0)], y[(x < 0) & (y < 0)], color='red', label='Quadrant III (x < 0, y < 0)', alpha=0.6)\n# Quadrant IV\nplt.scatter(x[(x > 0) & (y < 0)], y[(x > 0) & (y < 0)], color='orange', label='Quadrant IV (x > 0, y < 0)', alpha=0.6)\n\n# Add origin lines\nplt.axhline(0, color='black',linewidth=0.5, ls='--')\nplt.axvli\n",
      "metadata": {
        "trusted": true
      },
      "outputs": [],
      "execution_count": null
    },
    {
      "cell_type": "code",
      "source": "#18. With Bokeh, plot a line chart of a sine wave function, add grid lines, label the axes, and set the title as 'Sine Wave Function'\n#Ans.from math import pi\nimport numpy as np\nfrom bokeh.plotting import figure, show\nfrom bokeh.io import output_notebook\n\n# Output to Jupyter Notebook\noutput_notebook()\n\n# Generate x values from 0 to 2π\nx = np.linspace(0, 2 * pi, 100)\n# Calculate sine values for each x\ny = np.sin(x)\n\n# Create a new Bokeh figure\np = figure(title=\"Sine Wave Function\", x_axis_label='X (radians)', y_axis_label='Y (sin(x))', \n           width=800, height=400)\n\n# Add line to the figure\np.line(x, y, line_width=2, color='blue', legend_label='sin(x)')\n\n# Add grid lines\np.grid.grid_line_alpha = 0.3\n\n# Show the plot\nshow(p)\n",
      "metadata": {
        "trusted": true
      },
      "outputs": [],
      "execution_count": null
    },
    {
      "cell_type": "code",
      "source": "#19.Using Bokeh, generate a bar chart of randomly generated categorical data, color bars based on their values, add hover tooltips to display exact values, label the axes, and set the title as 'Random Categorical Bar Chart'8\n#Ans.\nimport numpy as np\nfrom bokeh.plotting import figure, show\nfrom bokeh.io import output_notebook\nfrom bokeh.models import ColumnDataSource, HoverTool\nfrom bokeh.transform import linear_cmap\nfrom bokeh.palettes import Viridis256\n\n# Output to Jupyter Notebook\noutput_notebook()\n\n# Generate random categorical data\ncategories = [f'Category {i}' for i in range(1, 11)]\nvalues = np.random.randint(1, 100, size=len(categories))\n\n# Create a ColumnDataSource\nsource = ColumnDataSource(data=dict(categories=categories, values=values))\n\n# Create a color mapper\ncolor_mapper = linear_cmap('values', Viridis256)\n\n# Create a new Bokeh figure\np = figure(x_range=categories, title=\"Random Categorical Bar Chart\", \n           x_axis_label='Categories', y_axis_label='Values', \n           width=800, height=400)\n\n# Add bars to the figure\np.vbar(x='categories', top='values', source=source, \n        width=0.9, color=color_mapper, legend_field='categories')\n\n# Add hover tooltips\nhover = HoverTool()\nhover.tooltips = [(\"Category\", \"@categories\"), (\"Value\", \"@values\")]\np.add_tools(hover)\n\n# Label the axes\np.xgrid.grid_line_color = None\np.y_range.start = 0\n\n# Show the plot\nshow(p)\n",
      "metadata": {
        "trusted": true
      },
      "outputs": [],
      "execution_count": null
    },
    {
      "cell_type": "code",
      "source": "#12.Using Plotly, create a basic line plot of a randomly generated dataset, label the axes, and set the title as 'Simple Line Plo\n#ANS.\nimport numpy as np\nimport plotly.graph_objs as go\nimport plotly.offline as pyo\n\n# Generate random data\nnp.random.seed(0)  # For reproducibility\nx = np.linspace(0, 10, 100)  # 100 points from 0 to 10\ny = np.random.rand(100)  # 100 random values\n\n# Create a line plot\ntrace = go.Scatter(\n    x=x,\n    y=y,\n    mode='lines',  # 'lines' for line plot\n    name='Random Data'\n)\n\n# Create the layout\nlayout = go.Layout(\n    title='Simple Line Plot',\n    xaxis=dict(title='X-axis'),\n    yaxis=dict(title='Y-axis')\n)\n\n# Create the figure\nfig = go.Figure(data=[trace], layout=layout)\n\n# Show the plot\npyo.iplot(fig)\n",
      "metadata": {
        "trusted": true
      },
      "outputs": [],
      "execution_count": null
    },
    {
      "cell_type": "code",
      "source": "#21. Using Plotly, create an interactive pie chart of randomly generated data, add labels and percentages, set the title as 'Interactive Pie Chart'\n#ANS\nimport numpy as np\nimport plotly.graph_objs as go\nimport plotly.offline as pyo\n\n# Generate random data\nnp.random.seed(0)  # For reproducibility\nlabels = [f'Category {i}' for i in range(1, 6)]  # 5 categories\nvalues = np.random.randint(1, 100, size=len(labels))  # Random values for each category\n\n# Create a pie chart\nfig = go.Figure(data=[go.Pie(\n    labels=labels,\n    values=values,\n    textinfo='label+percent',  # Show label and percentage\n    hoverinfo='label+percent',  # Show label and percentage on hover\n)])\n\n# Update layout\nfig.update_layout(title_text='Interactive Pie Chart')\n\n# Show the plot\npyo.iplot(fig)\n",
      "metadata": {
        "trusted": true
      },
      "outputs": [],
      "execution_count": null
    },
    {
      "cell_type": "code",
      "source": "",
      "metadata": {
        "trusted": true
      },
      "outputs": [],
      "execution_count": null
    }
  ]
}