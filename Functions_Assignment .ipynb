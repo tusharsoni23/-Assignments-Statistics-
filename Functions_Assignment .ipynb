{
  "metadata": {
    "kernelspec": {
      "name": "python",
      "display_name": "Python (Pyodide)",
      "language": "python"
    },
    "language_info": {
      "codemirror_mode": {
        "name": "python",
        "version": 3
      },
      "file_extension": ".py",
      "mimetype": "text/x-python",
      "name": "python",
      "nbconvert_exporter": "python",
      "pygments_lexer": "ipython3",
      "version": "3.8"
    }
  },
  "nbformat_minor": 4,
  "nbformat": 4,
  "cells": [
    {
      "cell_type": "code",
      "source": " #1. Write a Python function that takes a list of numbers as input and returns the sum of all even numbers in the list\n#Ans. \n\ndef sum_of_even_numbers(numbers):\n    return sum(num for num in numbers if num % 2 == 0)\n\n# Example usage:\nnumbers = [1, 2, 3, 4, 5, 6]\nresult = sum_of_even_numbers(numbers)\nprint(\"Sum of even numbers:\", result)  # Output: 12\nYou can replace the example lis\n#This function uses a generator expression to filter out even numbers and then sums them up using the built-in `sum()` function. ",
      "metadata": {
        "trusted": true
      },
      "outputs": [
        {
          "name": "stdout",
          "text": "Sum of even numbers: 12\n",
          "output_type": "stream"
        }
      ],
      "execution_count": 7
    },
    {
      "cell_type": "code",
      "source": "#2. Create a Python function that accepts a string and returns the reverse of that string.\n#Ans\n\ndef reverse_string(s):\n    return s[::-1]\n\n# Example usage:\ninput_string = \"Hello, World!\"\nreversed_string = reverse_string(input_string)\nprint(\"Reversed string:\", reversed_string)  # Output: !dlroW ,olleH\n\n\n#This function uses Python’s slicing feature to reverse the string efficiently. ",
      "metadata": {
        "trusted": true
      },
      "outputs": [
        {
          "name": "stdout",
          "text": "Reversed string: !dlroW ,olleH\n",
          "output_type": "stream"
        }
      ],
      "execution_count": 8
    },
    {
      "cell_type": "code",
      "source": " #3. Implement a Python function that takes a list of integers and returns a new list containing the squares of each number\n\ndef square_numbers(numbers):\n    return [num ** 2 for num in numbers]\n\n# Example usage:\ninput_list = [1, 2, 3, 4, 5]\nsquared_list = square_numbers(input_list)\nprint(\"Squared numbers:\", squared_list)  # Output: [1, 4, 9, 16, 25]\n\n\n#This function uses a list comprehension to compute the square of each number in the input list. ",
      "metadata": {
        "trusted": true
      },
      "outputs": [],
      "execution_count": null
    },
    {
      "cell_type": "code",
      "source": "#4. Write a Python function that checks if a given number is prime or not from 1 to 200.\n#Ans.\ndef is_prime(n):\n    if n <= 1:\n        return False\n    for i in range(2, int(n**0.5) + 1):\n        if n % i == 0:\n            return False\n    return True\n\n",
      "metadata": {
        "trusted": true
      },
      "outputs": [],
      "execution_count": 17
    },
    {
      "cell_type": "code",
      "source": "#5. Create an iterator class in Python that generates the Fibonacci sequence up to a specified number of terms.\n\n\n\nclass FibonacciIterator:\n    def __init__(self, terms):\n        self.terms = terms\n        self.a, self.b = 0, 1\n        self.count = 0\n\n    def __iter__(self):\n        return self\n\n    def __next__(self):\n        if self.count < self.terms:\n            fib_number = self.a\n            self.a, self.b = self.b, self.a + self.b\n            self.count += 1\n            return fib_number\n        else:\n            raise StopIteration",
      "metadata": {
        "trusted": true
      },
      "outputs": [],
      "execution_count": null
    },
    {
      "cell_type": "code",
      "source": "# 6. Write a generator function in Python that yields the powers of 2 up to a given exponent.\n#Ans. \ndef powers_of_two(exponent):\n    for i in range(exponent + 1):\n        yield 2 ** i\n\n",
      "metadata": {
        "trusted": true
      },
      "outputs": [],
      "execution_count": null
    },
    {
      "cell_type": "code",
      "source": "#7. Implement a generator function that reads a file line by line and yields each line as a string.\n#Ans.\n\ndef read_file_line_by_line(file_path):\n    with open(file_path, 'r') as file:\n        for line in file:\n            yield line.strip()  # Use strip() to remove any trailing newlines",
      "metadata": {
        "trusted": true
      },
      "outputs": [],
      "execution_count": 27
    },
    {
      "cell_type": "code",
      "source": "# 8. Use a lambda function in Python to sort a list of tuples based on the second element of each tuple.\n# Sample list of tuples\ntuples_list = [(1, 'banana'), (3, 'apple'), (2, 'cherry'), (4, 'date')]\n\n# Sorting the list based on the second element of each tuple\nsorted_list = sorted(tuples_list, key=lambda x: x[1])\n\n",
      "metadata": {
        "trusted": true
      },
      "outputs": [],
      "execution_count": null
    },
    {
      "cell_type": "code",
      "source": "#9. Write a Python program that uses `map()` to convert a list of temperatures from Celsius to Fahrenheit.\n#Ans. # List of temperatures in Celsius\ncelsius_temperatures = [0, 20, 37, 100]\n\n# Function to convert Celsius to Fahrenheit\ndef celsius_to_fahrenheit(celsius):\n    return (celsius * 9/5) + 32\n\n# Using map() to convert the list of temperatures\nfahrenheit_temperatures = list(map(celsius_to_fahrenheit, celsius_temperatures))",
      "metadata": {
        "trusted": true
      },
      "outputs": [],
      "execution_count": null
    },
    {
      "cell_type": "code",
      "source": "#10. Create a Python program that uses `filter()` to remove all the vowels from a given string\n#Ans. def remove_vowels(input_string):\n    vowels = 'aeiouAEIOU'\n    # Using filter to remove vowels\n    filtered_string = ''.join(filter(lambda char: char not in vowels, input_string))\n    return filtered_string",
      "metadata": {
        "trusted": true
      },
      "outputs": [],
      "execution_count": null
    },
    {
      "cell_type": "code",
      "source": "\n\n\nTushar, [18-09-2024 13:32]\n\n\nTushar, [18-09-2024 15:31]\n# List of orders\norders = [\n    [34587, \"Learning Python, Mark Lutz\", 4, 40.95],\n    [98762, \"Programming Python, Mark Lutz\", 5, 56.80],\n    [77226, \"Head First Python, Paul Barry\", 3, 32.95],\n    [88112, \"Einführung in Python3, Bernd Klein\", 3, 24.99]\n]\n\n# Function to calculate total cost\ncalculate_total = lambda order: (order[0], order[2] * order[3] + 10 if order[2] * order[3] < 100 else order[2] * order[3])\n\n# Using map to apply the function to each order\nresult = list(map(calculate_total, orders))\n\n# Print the result\nprint(result)",
      "metadata": {
        "trusted": true
      },
      "outputs": [],
      "execution_count": null
    }
  ]
}